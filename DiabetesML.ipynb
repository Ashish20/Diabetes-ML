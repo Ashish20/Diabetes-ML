{
  "nbformat": 4,
  "nbformat_minor": 0,
  "metadata": {
    "colab": {
      "name": "DiabetesML.ipynb",
      "version": "0.3.2",
      "provenance": [],
      "collapsed_sections": []
    },
    "kernelspec": {
      "name": "python3",
      "display_name": "Python 3"
    },
    "accelerator": "GPU"
  },
  "cells": [
    {
      "cell_type": "code",
      "metadata": {
        "id": "9lWxmtN-XKGa",
        "colab_type": "code",
        "outputId": "8437310b-556c-4ac6-d43a-10cdf13ea9ca",
        "colab": {
          "base_uri": "https://localhost:8080/",
          "height": 122
        }
      },
      "source": [
        "from google.colab import drive\n",
        "drive.mount('/content/gdrive')"
      ],
      "execution_count": 2,
      "outputs": [
        {
          "output_type": "stream",
          "text": [
            "Go to this URL in a browser: https://accounts.google.com/o/oauth2/auth?client_id=947318989803-6bn6qk8qdgf4n4g3pfee6491hc0brc4i.apps.googleusercontent.com&redirect_uri=urn%3Aietf%3Awg%3Aoauth%3A2.0%3Aoob&scope=email%20https%3A%2F%2Fwww.googleapis.com%2Fauth%2Fdocs.test%20https%3A%2F%2Fwww.googleapis.com%2Fauth%2Fdrive%20https%3A%2F%2Fwww.googleapis.com%2Fauth%2Fdrive.photos.readonly%20https%3A%2F%2Fwww.googleapis.com%2Fauth%2Fpeopleapi.readonly&response_type=code\n",
            "\n",
            "Enter your authorization code:\n",
            "··········\n",
            "Mounted at /content/gdrive\n"
          ],
          "name": "stdout"
        }
      ]
    },
    {
      "cell_type": "code",
      "metadata": {
        "id": "dQvz-iULXUH0",
        "colab_type": "code",
        "colab": {}
      },
      "source": [
        "import sys\n",
        "sys.path.append('/content/gdrive/My Drive/Colab Notebooks')"
      ],
      "execution_count": 0,
      "outputs": []
    },
    {
      "cell_type": "code",
      "metadata": {
        "id": "-wVGAbF2XcLm",
        "colab_type": "code",
        "colab": {}
      },
      "source": [
        "import pandas as pd\n",
        "import data_loader as dl\n",
        "import numpy as np\n",
        "from sklearn.neighbors import KNeighborsClassifier\n",
        "import matplotlib.pyplot as plt"
      ],
      "execution_count": 0,
      "outputs": []
    },
    {
      "cell_type": "markdown",
      "metadata": {
        "id": "0Ql45Hj31IrE",
        "colab_type": "text"
      },
      "source": [
        "# **Initializing Lists And Data Loading**"
      ]
    },
    {
      "cell_type": "code",
      "metadata": {
        "id": "QF504OWIXb8R",
        "colab_type": "code",
        "colab": {}
      },
      "source": [
        "train_features_list = list()\n",
        "train_label_list = list()\n",
        "valid_features_list = list()\n",
        "valid_label_list = list()\n",
        "test_features_list = list()\n",
        "test_label_list = list()\n",
        "label_dict = dict()"
      ],
      "execution_count": 0,
      "outputs": []
    },
    {
      "cell_type": "code",
      "metadata": {
        "id": "z_-AEawhabSG",
        "colab_type": "code",
        "colab": {}
      },
      "source": [
        "def beep():\n",
        "  from google.colab import output\n",
        "  output.eval_js('new Audio(\"https://upload.wikimedia.org/wikipedia/commons/0/05/Beep-09.ogg\").play()')  "
      ],
      "execution_count": 0,
      "outputs": []
    },
    {
      "cell_type": "code",
      "metadata": {
        "id": "54qQcTIMXbxn",
        "colab_type": "code",
        "colab": {}
      },
      "source": [
        "df1 = pd.read_csv('/content/gdrive/My Drive/Colab Notebooks/dataset_diabetes/diabetic_data.csv')"
      ],
      "execution_count": 0,
      "outputs": []
    },
    {
      "cell_type": "code",
      "metadata": {
        "id": "TCzFVcflYOTT",
        "colab_type": "code",
        "colab": {}
      },
      "source": [
        "train_features_list, train_label_list, valid_features_list, valid_label_list, test_features_list, test_label_list, label_dict = dl.load_dataset('/content/gdrive/My Drive/Colab Notebooks/dataset_diabetes/diabetic_data.csv', valid_rate=0.1)"
      ],
      "execution_count": 0,
      "outputs": []
    },
    {
      "cell_type": "code",
      "metadata": {
        "id": "ukfz5K67tBKZ",
        "colab_type": "code",
        "outputId": "d6654d29-7059-403f-ce8f-6da581025e67",
        "colab": {
          "base_uri": "https://localhost:8080/",
          "height": 34
        }
      },
      "source": [
        "np.unique(train_label_list)"
      ],
      "execution_count": 9,
      "outputs": [
        {
          "output_type": "execute_result",
          "data": {
            "text/plain": [
              "array([0, 1, 2])"
            ]
          },
          "metadata": {
            "tags": []
          },
          "execution_count": 9
        }
      ]
    },
    {
      "cell_type": "code",
      "metadata": {
        "id": "tvR7r5FfI9uN",
        "colab_type": "code",
        "outputId": "16eb0206-0b17-4f8c-b542-1b0fb05f1b35",
        "colab": {
          "base_uri": "https://localhost:8080/",
          "height": 34
        }
      },
      "source": [
        "label_dict"
      ],
      "execution_count": 10,
      "outputs": [
        {
          "output_type": "execute_result",
          "data": {
            "text/plain": [
              "{'<30': 1, '>30': 2, 'no': 0}"
            ]
          },
          "metadata": {
            "tags": []
          },
          "execution_count": 10
        }
      ]
    },
    {
      "cell_type": "code",
      "metadata": {
        "id": "WGbYOq0TYe3s",
        "colab_type": "code",
        "colab": {}
      },
      "source": [
        "columns_list = df1.columns\n",
        "columns_list=columns_list[:-1]"
      ],
      "execution_count": 0,
      "outputs": []
    },
    {
      "cell_type": "markdown",
      "metadata": {
        "id": "naAZCFymixz_",
        "colab_type": "text"
      },
      "source": [
        "# Converting np array to Data Frames"
      ]
    },
    {
      "cell_type": "code",
      "metadata": {
        "id": "_SnntJ4LYOO8",
        "colab_type": "code",
        "colab": {}
      },
      "source": [
        "def conertNpToDF(train_features_list, columns_list):\n",
        "    df=pd.DataFrame(data=train_features_list,\n",
        "             columns=columns_list) \n",
        "    return df"
      ],
      "execution_count": 0,
      "outputs": []
    },
    {
      "cell_type": "code",
      "metadata": {
        "id": "Q6VCdZXjYOMK",
        "colab_type": "code",
        "colab": {}
      },
      "source": [
        "dfTrain = conertNpToDF(train_features_list, columns_list)\n",
        "dfValid = conertNpToDF(valid_features_list, columns_list)\n",
        "dfTest = conertNpToDF(test_features_list, columns_list)"
      ],
      "execution_count": 0,
      "outputs": []
    },
    {
      "cell_type": "markdown",
      "metadata": {
        "id": "3HoCl0b0i3Gx",
        "colab_type": "text"
      },
      "source": [
        "# Feature Engineering"
      ]
    },
    {
      "cell_type": "code",
      "metadata": {
        "id": "w3joyqMic39P",
        "colab_type": "code",
        "colab": {}
      },
      "source": [
        "medicines = ['metformin', 'repaglinide', 'nateglinide', 'chlorpropamide', 'glimepiride', 'glipizide', 'glyburide', 'pioglitazone', 'rosiglitazone', 'acarbose', 'miglitol', 'insulin', 'glyburide-metformin', 'tolazamide', 'metformin-pioglitazone','metformin-rosiglitazone', 'glimepiride-pioglitazone', 'glipizide-metformin', 'troglitazone', 'tolbutamide', 'acetohexamide']"
      ],
      "execution_count": 0,
      "outputs": []
    },
    {
      "cell_type": "markdown",
      "metadata": {
        "id": "-hoxtaApsj_J",
        "colab_type": "text"
      },
      "source": [
        "## Plots Showing unknown values"
      ]
    },
    {
      "cell_type": "code",
      "metadata": {
        "id": "R92uVI5BlxTc",
        "colab_type": "code",
        "outputId": "0562d74a-f7ea-4b82-8789-aa3cc871548b",
        "colab": {
          "base_uri": "https://localhost:8080/",
          "height": 269
        }
      },
      "source": [
        "codes=df1['payer_code'].value_counts()\n",
        "plt.plot(codes.index,codes)\n",
        "plt.show()"
      ],
      "execution_count": 17,
      "outputs": [
        {
          "output_type": "display_data",
          "data": {
            "image/png": "[encoded data removed]",
            "text/plain": [
              "<Figure size 432x288 with 1 Axes>"
            ]
          },
          "metadata": {
            "tags": []
          }
        }
      ]
    },
    {
      "cell_type": "code",
      "metadata": {
        "id": "acQ6LR0msXeA",
        "colab_type": "code",
        "outputId": "9b69059f-1035-42af-b67a-c30e98c29869",
        "colab": {
          "base_uri": "https://localhost:8080/",
          "height": 269
        }
      },
      "source": [
        "weights = df1['weight'].value_counts()\n",
        "plt.plot(weights.index,weights)\n",
        "plt.show()"
      ],
      "execution_count": 18,
      "outputs": [
        {
          "output_type": "display_data",
          "data": {
            "image/png": "[encoded data removed]",
            "text/plain": [
              "<Figure size 432x288 with 1 Axes>"
            ]
          },
          "metadata": {
            "tags": []
          }
        }
      ]
    },
    {
      "cell_type": "markdown",
      "metadata": {
        "id": "6Rt3Q0npq753",
        "colab_type": "text"
      },
      "source": [
        "**Citiglipton and Examide has only 1 value.**"
      ]
    },
    {
      "cell_type": "code",
      "metadata": {
        "id": "QyQBJhV-stlf",
        "colab_type": "code",
        "outputId": "362e3fd2-18d7-4821-9821-0536f87258bc",
        "colab": {
          "base_uri": "https://localhost:8080/",
          "height": 51
        }
      },
      "source": [
        "df1['citoglipton'].value_counts()"
      ],
      "execution_count": 19,
      "outputs": [
        {
          "output_type": "execute_result",
          "data": {
            "text/plain": [
              "No    101766\n",
              "Name: citoglipton, dtype: int64"
            ]
          },
          "metadata": {
            "tags": []
          },
          "execution_count": 19
        }
      ]
    },
    {
      "cell_type": "code",
      "metadata": {
        "id": "THBS0gWLYOJd",
        "colab_type": "code",
        "colab": {}
      },
      "source": [
        "def basicPreprocess(df):\n",
        "  \n",
        "  df = df.loc[~df.discharge_disposition_id.isin([11,13,14,19,20,21])]\n",
        "  df = df.loc[~df.gender.isin(['Unknown/Invalid'])]\n",
        "  df = df.replace('?',np.nan)\n",
        "  \n",
        "  df = df.drop(['weight','payer_code','medical_specialty', 'diag_2', 'diag_3', 'patient_nbr', 'citoglipton', 'examide'], axis = 1)\n",
        "  return df"
      ],
      "execution_count": 0,
      "outputs": []
    },
    {
      "cell_type": "code",
      "metadata": {
        "id": "BCTpUpONYxUE",
        "colab_type": "code",
        "colab": {}
      },
      "source": [
        "dfTrain1 = basicPreprocess(dfTrain)\n",
        "dfValid1 = basicPreprocess(dfValid)\n",
        "dfTest1 = basicPreprocess(dfTest)"
      ],
      "execution_count": 0,
      "outputs": []
    },
    {
      "cell_type": "code",
      "metadata": {
        "id": "noTsVFFGYxQl",
        "colab_type": "code",
        "outputId": "5fe039b6-eaf1-45e3-bcd1-c6b8a17fc539",
        "colab": {
          "base_uri": "https://localhost:8080/",
          "height": 34
        }
      },
      "source": [
        "dfTest1.shape"
      ],
      "execution_count": 22,
      "outputs": [
        {
          "output_type": "execute_result",
          "data": {
            "text/plain": [
              "(9888, 41)"
            ]
          },
          "metadata": {
            "tags": []
          },
          "execution_count": 22
        }
      ]
    },
    {
      "cell_type": "code",
      "metadata": {
        "id": "onktMzWRYxNM",
        "colab_type": "code",
        "colab": {}
      },
      "source": [
        "def recodingPreProcess(df, train_label_list):\n",
        "\n",
        "  df['admission_type_id'] = df['admission_type_id'].replace(2,1)\n",
        "  df['admission_type_id'] = df['admission_type_id'].replace(7,1)\n",
        "  df['admission_type_id'] = df['admission_type_id'].replace(6,5)\n",
        "  df['admission_type_id'] = df['admission_type_id'].replace(8,5)\n",
        "  \n",
        "  df['change'] = df['change'].replace('Ch', 1)\n",
        "  df['change'] = df['change'].replace('No', 0)\n",
        "  \n",
        "  df['gender'] = df['gender'].replace('Male', 1)\n",
        "  df['gender'] = df['gender'].replace('Female', 0)\n",
        "  \n",
        "  df['diabetesMed'] = df['diabetesMed'].replace('Yes', 1)\n",
        "  df['diabetesMed'] = df['diabetesMed'].replace('No', 0)\n",
        "  \n",
        "  df['race'] = df['race'].fillna('UNK')\n",
        "  df['diag_1'] = df['diag_1'].fillna('UNK')\n",
        "  \n",
        "  df['race'] = df['race'].replace({'Caucasian':0,'AfricanAmerican':1,'UNK':2,'Other':3,'Asian':4,'Hispanic':5})\n",
        "  \n",
        "  df['A1Cresult'] = df['A1Cresult'].replace('>7', 1)#Greater than 7 and \n",
        "  df['A1Cresult'] = df['A1Cresult'].replace('>8', 1)\n",
        "  df['A1Cresult'] = df['A1Cresult'].replace('Norm', 0)\n",
        "  df['A1Cresult'] = df['A1Cresult'].replace('None', -99)\n",
        "  \n",
        "  df['max_glu_serum'] = df['max_glu_serum'].replace('>200', 1)\n",
        "  df['max_glu_serum'] = df['max_glu_serum'].replace('>300', 1)\n",
        "  df['max_glu_serum'] = df['max_glu_serum'].replace('Norm', 0)\n",
        "  df['max_glu_serum'] = df['max_glu_serum'].replace('None', -99)\n",
        "  \n",
        "  age_id = {'[0-10)':0, \n",
        "          '[10-20)':10, \n",
        "          '[20-30)':20, \n",
        "          '[30-40)':30, \n",
        "          '[40-50)':40, \n",
        "          '[50-60)':50,\n",
        "          '[60-70)':60, \n",
        "          '[70-80)':70, \n",
        "          '[80-90)':80, \n",
        "          '[90-100)':90}\n",
        "  df['age'] = df.age.replace(age_id)\n",
        "  \n",
        "  for col in medicines:\n",
        "    colname = str(col) + 'temp'\n",
        "    df[colname] = df[col].apply(lambda x: 0 if (x == 'No' or x == 'Steady') else 1)\n",
        "    df['numchange'] = 0\n",
        "    \n",
        "  for col in medicines:\n",
        "    colname = str(col) + 'temp'\n",
        "    df['numchange'] = df['numchange'] + df[colname]\n",
        "    del df[colname]\n",
        "  \n",
        "  for col in medicines:\n",
        "    df[col] = df[col].replace('No', 0)\n",
        "    df[col] = df[col].replace('Steady', 1)\n",
        "    df[col] = df[col].replace('Up', 1)\n",
        "    df[col] = df[col].replace('Down', 1)\n",
        "    \n",
        "  df['nummed'] = 0\n",
        "  for col in medicines:\n",
        "    df['nummed'] = df['nummed'] + df[col]\n",
        "\n",
        "  return df"
      ],
      "execution_count": 0,
      "outputs": []
    },
    {
      "cell_type": "code",
      "metadata": {
        "id": "kCMUUJjsdnLc",
        "colab_type": "code",
        "colab": {}
      },
      "source": [
        "dfTrainNew = recodingPreProcess(dfTrain1, train_label_list)\n",
        "dfValidNew = recodingPreProcess(dfValid1, valid_label_list)\n",
        "dfTestNew = recodingPreProcess(dfTest1, test_label_list)"
      ],
      "execution_count": 0,
      "outputs": []
    },
    {
      "cell_type": "code",
      "metadata": {
        "id": "0zQZe0euIIJZ",
        "colab_type": "code",
        "colab": {}
      },
      "source": [
        "def processDiag1(df):\n",
        "  df['level1_diag1'] = df['diag_1']\n",
        "# disease codes starting with V or E are in “other” category; so recode them to 0\n",
        "  df.loc[df['diag_1'].str.contains('V'), ['level1_diag1']] = 0\n",
        "  df.loc[df['diag_1'].str.contains('E'), ['level1_diag1']] = 0\n",
        "  # also replace the unknown values with -1\n",
        "  df['level1_diag1'] = df['level1_diag1'].replace('?', -1)\n",
        "  df['level1_diag1'] = df['level1_diag1'].replace('UNK', -1)\n",
        "  \n",
        "  df['level1_diag1'] = df.level1_diag1.astype('float')\n",
        "  # iterate and recode disease codes between certain ranges to certain categories\n",
        "  for index, row in df.iterrows():\n",
        "    if (row['level1_diag1'] >= 390 and row['level1_diag1'] < 460) or (np.floor(row['level1_diag1']) == 785):\n",
        "        df.loc[index, 'level1_diag1'] = 1\n",
        "    elif (row['level1_diag1'] >= 460 and row['level1_diag1'] < 520) or (np.floor(row['level1_diag1']) == 786):\n",
        "        df.loc[index, 'level1_diag1'] = 2\n",
        "    elif (row['level1_diag1'] >= 520 and row['level1_diag1'] < 580) or (np.floor(row['level1_diag1']) == 787):\n",
        "        df.loc[index, 'level1_diag1'] = 3\n",
        "    elif (np.floor(row['level1_diag1']) == 250):\n",
        "        df.loc[index, 'level1_diag1'] = 4\n",
        "    elif (row['level1_diag1'] >= 800 and row['level1_diag1'] < 1000):\n",
        "        df.loc[index, 'level1_diag1'] = 5\n",
        "    elif (row['level1_diag1'] >= 710 and row['level1_diag1'] < 740):\n",
        "        df.loc[index, 'level1_diag1'] = 6\n",
        "    elif (row['level1_diag1'] >= 580 and row['level1_diag1'] < 630) or (np.floor(row['level1_diag1']) == 788):\n",
        "        df.loc[index, 'level1_diag1'] = 7\n",
        "    elif (row['level1_diag1'] >= 140 and row['level1_diag1'] < 240):\n",
        "        df.loc[index, 'level1_diag1'] = 8\n",
        "    else:\n",
        "        df.loc[index, 'level1_diag1'] = 0\n",
        "# convert this variable to float type to enable computations later\n",
        "  df['level1_diag1'] = df['level1_diag1'].astype(float)\n",
        "  \n",
        "  del df['diag_1']\n",
        "  \n",
        "  df['OUTPUT_LABEL'] = pd.Series(train_label_list)\n",
        "  \n",
        "  return df"
      ],
      "execution_count": 0,
      "outputs": []
    },
    {
      "cell_type": "code",
      "metadata": {
        "id": "rVbhSUAlIcQY",
        "colab_type": "code",
        "colab": {}
      },
      "source": [
        "dfTrainNew = processDiag1(dfTrainNew)\n",
        "dfValidNew = processDiag1(dfValidNew)\n",
        "dfTestNew = processDiag1(dfTestNew)"
      ],
      "execution_count": 0,
      "outputs": []
    },
    {
      "cell_type": "code",
      "metadata": {
        "id": "94n9E3VKMKWo",
        "colab_type": "code",
        "outputId": "59b2102f-7825-4855-9703-5d9ffd827864",
        "colab": {
          "base_uri": "https://localhost:8080/",
          "height": 119
        }
      },
      "source": [
        "dfTrainNew['numchange'].value_counts()"
      ],
      "execution_count": 27,
      "outputs": [
        {
          "output_type": "execute_result",
          "data": {
            "text/plain": [
              "0    58566\n",
              "1    20780\n",
              "2     1059\n",
              "3       85\n",
              "4        3\n",
              "Name: numchange, dtype: int64"
            ]
          },
          "metadata": {
            "tags": []
          },
          "execution_count": 27
        }
      ]
    },
    {
      "cell_type": "code",
      "metadata": {
        "id": "mNPmoklQokJQ",
        "colab_type": "code",
        "outputId": "b27c6ab3-d789-4787-b8ae-5e8e33f30bd6",
        "colab": {
          "base_uri": "https://localhost:8080/",
          "height": 272
        }
      },
      "source": [
        "print(dfTrainNew.groupby('OUTPUT_LABEL').size())\n",
        "print(dfValidNew.groupby('OUTPUT_LABEL').size())\n",
        "print(dfTestNew.groupby('OUTPUT_LABEL').size())"
      ],
      "execution_count": 28,
      "outputs": [
        {
          "output_type": "stream",
          "text": [
            "OUTPUT_LABEL\n",
            "0    42577\n",
            "1     9163\n",
            "2    28753\n",
            "dtype: int64\n",
            "OUTPUT_LABEL\n",
            "0    4900\n",
            "1    1027\n",
            "2    3032\n",
            "dtype: int64\n",
            "OUTPUT_LABEL\n",
            "0    5376\n",
            "1    1130\n",
            "2    3382\n",
            "dtype: int64\n"
          ],
          "name": "stdout"
        }
      ]
    },
    {
      "cell_type": "code",
      "metadata": {
        "id": "mhFJEK2ySRcl",
        "colab_type": "code",
        "outputId": "01283a17-8dd2-4ce8-8700-75f4e549fc6c",
        "colab": {
          "base_uri": "https://localhost:8080/",
          "height": 241
        }
      },
      "source": [
        "dfTrainNew.head()"
      ],
      "execution_count": 29,
      "outputs": [
        {
          "output_type": "execute_result",
          "data": {
            "text/html": [
              "<div>\n",
              "<style scoped>\n",
              "    .dataframe tbody tr th:only-of-type {\n",
              "        vertical-align: middle;\n",
              "    }\n",
              "\n",
              "    .dataframe tbody tr th {\n",
              "        vertical-align: top;\n",
              "    }\n",
              "\n",
              "    .dataframe thead th {\n",
              "        text-align: right;\n",
              "    }\n",
              "</style>\n",
              "<table border=\"1\" class=\"dataframe\">\n",
              "  <thead>\n",
              "    <tr style=\"text-align: right;\">\n",
              "      <th></th>\n",
              "      <th>encounter_id</th>\n",
              "      <th>race</th>\n",
              "      <th>gender</th>\n",
              "      <th>age</th>\n",
              "      <th>admission_type_id</th>\n",
              "      <th>discharge_disposition_id</th>\n",
              "      <th>admission_source_id</th>\n",
              "      <th>time_in_hospital</th>\n",
              "      <th>num_lab_procedures</th>\n",
              "      <th>num_procedures</th>\n",
              "      <th>num_medications</th>\n",
              "      <th>number_outpatient</th>\n",
              "      <th>number_emergency</th>\n",
              "      <th>number_inpatient</th>\n",
              "      <th>number_diagnoses</th>\n",
              "      <th>max_glu_serum</th>\n",
              "      <th>A1Cresult</th>\n",
              "      <th>metformin</th>\n",
              "      <th>repaglinide</th>\n",
              "      <th>nateglinide</th>\n",
              "      <th>chlorpropamide</th>\n",
              "      <th>glimepiride</th>\n",
              "      <th>acetohexamide</th>\n",
              "      <th>glipizide</th>\n",
              "      <th>glyburide</th>\n",
              "      <th>tolbutamide</th>\n",
              "      <th>pioglitazone</th>\n",
              "      <th>rosiglitazone</th>\n",
              "      <th>acarbose</th>\n",
              "      <th>miglitol</th>\n",
              "      <th>troglitazone</th>\n",
              "      <th>tolazamide</th>\n",
              "      <th>insulin</th>\n",
              "      <th>glyburide-metformin</th>\n",
              "      <th>glipizide-metformin</th>\n",
              "      <th>glimepiride-pioglitazone</th>\n",
              "      <th>metformin-rosiglitazone</th>\n",
              "      <th>metformin-pioglitazone</th>\n",
              "      <th>change</th>\n",
              "      <th>diabetesMed</th>\n",
              "      <th>numchange</th>\n",
              "      <th>nummed</th>\n",
              "      <th>level1_diag1</th>\n",
              "      <th>OUTPUT_LABEL</th>\n",
              "    </tr>\n",
              "  </thead>\n",
              "  <tbody>\n",
              "    <tr>\n",
              "      <th>0</th>\n",
              "      <td>30593184</td>\n",
              "      <td>1</td>\n",
              "      <td>0</td>\n",
              "      <td>90</td>\n",
              "      <td>5</td>\n",
              "      <td>3</td>\n",
              "      <td>17</td>\n",
              "      <td>5</td>\n",
              "      <td>25</td>\n",
              "      <td>0</td>\n",
              "      <td>10</td>\n",
              "      <td>0</td>\n",
              "      <td>0</td>\n",
              "      <td>0</td>\n",
              "      <td>8</td>\n",
              "      <td>0</td>\n",
              "      <td>-99</td>\n",
              "      <td>0</td>\n",
              "      <td>0</td>\n",
              "      <td>0</td>\n",
              "      <td>0</td>\n",
              "      <td>0</td>\n",
              "      <td>0</td>\n",
              "      <td>0</td>\n",
              "      <td>0</td>\n",
              "      <td>0</td>\n",
              "      <td>0</td>\n",
              "      <td>0</td>\n",
              "      <td>0</td>\n",
              "      <td>0</td>\n",
              "      <td>0</td>\n",
              "      <td>0</td>\n",
              "      <td>0</td>\n",
              "      <td>0</td>\n",
              "      <td>0</td>\n",
              "      <td>0</td>\n",
              "      <td>0</td>\n",
              "      <td>0</td>\n",
              "      <td>0</td>\n",
              "      <td>0</td>\n",
              "      <td>0</td>\n",
              "      <td>0</td>\n",
              "      <td>1.0</td>\n",
              "      <td>0</td>\n",
              "    </tr>\n",
              "    <tr>\n",
              "      <th>1</th>\n",
              "      <td>159004950</td>\n",
              "      <td>0</td>\n",
              "      <td>0</td>\n",
              "      <td>60</td>\n",
              "      <td>3</td>\n",
              "      <td>1</td>\n",
              "      <td>1</td>\n",
              "      <td>5</td>\n",
              "      <td>13</td>\n",
              "      <td>4</td>\n",
              "      <td>40</td>\n",
              "      <td>0</td>\n",
              "      <td>0</td>\n",
              "      <td>0</td>\n",
              "      <td>9</td>\n",
              "      <td>-99</td>\n",
              "      <td>-99</td>\n",
              "      <td>0</td>\n",
              "      <td>0</td>\n",
              "      <td>0</td>\n",
              "      <td>0</td>\n",
              "      <td>0</td>\n",
              "      <td>0</td>\n",
              "      <td>0</td>\n",
              "      <td>1</td>\n",
              "      <td>0</td>\n",
              "      <td>0</td>\n",
              "      <td>0</td>\n",
              "      <td>0</td>\n",
              "      <td>0</td>\n",
              "      <td>0</td>\n",
              "      <td>0</td>\n",
              "      <td>0</td>\n",
              "      <td>0</td>\n",
              "      <td>0</td>\n",
              "      <td>0</td>\n",
              "      <td>0</td>\n",
              "      <td>0</td>\n",
              "      <td>0</td>\n",
              "      <td>1</td>\n",
              "      <td>0</td>\n",
              "      <td>1</td>\n",
              "      <td>1.0</td>\n",
              "      <td>2</td>\n",
              "    </tr>\n",
              "    <tr>\n",
              "      <th>2</th>\n",
              "      <td>38953830</td>\n",
              "      <td>1</td>\n",
              "      <td>0</td>\n",
              "      <td>60</td>\n",
              "      <td>1</td>\n",
              "      <td>1</td>\n",
              "      <td>7</td>\n",
              "      <td>5</td>\n",
              "      <td>51</td>\n",
              "      <td>1</td>\n",
              "      <td>16</td>\n",
              "      <td>0</td>\n",
              "      <td>0</td>\n",
              "      <td>0</td>\n",
              "      <td>9</td>\n",
              "      <td>-99</td>\n",
              "      <td>-99</td>\n",
              "      <td>0</td>\n",
              "      <td>0</td>\n",
              "      <td>0</td>\n",
              "      <td>0</td>\n",
              "      <td>0</td>\n",
              "      <td>0</td>\n",
              "      <td>0</td>\n",
              "      <td>0</td>\n",
              "      <td>0</td>\n",
              "      <td>0</td>\n",
              "      <td>0</td>\n",
              "      <td>0</td>\n",
              "      <td>0</td>\n",
              "      <td>0</td>\n",
              "      <td>0</td>\n",
              "      <td>1</td>\n",
              "      <td>0</td>\n",
              "      <td>0</td>\n",
              "      <td>0</td>\n",
              "      <td>0</td>\n",
              "      <td>0</td>\n",
              "      <td>0</td>\n",
              "      <td>1</td>\n",
              "      <td>0</td>\n",
              "      <td>1</td>\n",
              "      <td>4.0</td>\n",
              "      <td>0</td>\n",
              "    </tr>\n",
              "    <tr>\n",
              "      <th>3</th>\n",
              "      <td>23319678</td>\n",
              "      <td>1</td>\n",
              "      <td>1</td>\n",
              "      <td>10</td>\n",
              "      <td>1</td>\n",
              "      <td>1</td>\n",
              "      <td>4</td>\n",
              "      <td>4</td>\n",
              "      <td>13</td>\n",
              "      <td>0</td>\n",
              "      <td>2</td>\n",
              "      <td>0</td>\n",
              "      <td>0</td>\n",
              "      <td>0</td>\n",
              "      <td>1</td>\n",
              "      <td>-99</td>\n",
              "      <td>1</td>\n",
              "      <td>0</td>\n",
              "      <td>0</td>\n",
              "      <td>0</td>\n",
              "      <td>0</td>\n",
              "      <td>0</td>\n",
              "      <td>0</td>\n",
              "      <td>0</td>\n",
              "      <td>0</td>\n",
              "      <td>0</td>\n",
              "      <td>0</td>\n",
              "      <td>0</td>\n",
              "      <td>0</td>\n",
              "      <td>0</td>\n",
              "      <td>0</td>\n",
              "      <td>0</td>\n",
              "      <td>1</td>\n",
              "      <td>0</td>\n",
              "      <td>0</td>\n",
              "      <td>0</td>\n",
              "      <td>0</td>\n",
              "      <td>0</td>\n",
              "      <td>0</td>\n",
              "      <td>1</td>\n",
              "      <td>0</td>\n",
              "      <td>1</td>\n",
              "      <td>4.0</td>\n",
              "      <td>2</td>\n",
              "    </tr>\n",
              "    <tr>\n",
              "      <th>4</th>\n",
              "      <td>134851710</td>\n",
              "      <td>0</td>\n",
              "      <td>1</td>\n",
              "      <td>70</td>\n",
              "      <td>3</td>\n",
              "      <td>1</td>\n",
              "      <td>1</td>\n",
              "      <td>8</td>\n",
              "      <td>22</td>\n",
              "      <td>2</td>\n",
              "      <td>16</td>\n",
              "      <td>0</td>\n",
              "      <td>1</td>\n",
              "      <td>2</td>\n",
              "      <td>9</td>\n",
              "      <td>-99</td>\n",
              "      <td>-99</td>\n",
              "      <td>0</td>\n",
              "      <td>0</td>\n",
              "      <td>0</td>\n",
              "      <td>0</td>\n",
              "      <td>0</td>\n",
              "      <td>0</td>\n",
              "      <td>0</td>\n",
              "      <td>0</td>\n",
              "      <td>0</td>\n",
              "      <td>0</td>\n",
              "      <td>0</td>\n",
              "      <td>0</td>\n",
              "      <td>0</td>\n",
              "      <td>0</td>\n",
              "      <td>0</td>\n",
              "      <td>0</td>\n",
              "      <td>0</td>\n",
              "      <td>0</td>\n",
              "      <td>0</td>\n",
              "      <td>0</td>\n",
              "      <td>0</td>\n",
              "      <td>0</td>\n",
              "      <td>0</td>\n",
              "      <td>0</td>\n",
              "      <td>0</td>\n",
              "      <td>1.0</td>\n",
              "      <td>2</td>\n",
              "    </tr>\n",
              "  </tbody>\n",
              "</table>\n",
              "</div>"
            ],
            "text/plain": [
              "   encounter_id  race  gender  ...  nummed  level1_diag1  OUTPUT_LABEL\n",
              "0      30593184     1       0  ...       0           1.0             0\n",
              "1     159004950     0       0  ...       1           1.0             2\n",
              "2      38953830     1       0  ...       1           4.0             0\n",
              "3      23319678     1       1  ...       1           4.0             2\n",
              "4     134851710     0       1  ...       0           1.0             2\n",
              "\n",
              "[5 rows x 44 columns]"
            ]
          },
          "metadata": {
            "tags": []
          },
          "execution_count": 29
        }
      ]
    },
    {
      "cell_type": "code",
      "metadata": {
        "id": "bRJwgB7rhbwT",
        "colab_type": "code",
        "outputId": "5c65615b-d4bd-4350-9ae3-687d4e249b3d",
        "colab": {
          "base_uri": "https://localhost:8080/",
          "height": 34
        }
      },
      "source": [
        "dfTrainNew.shape"
      ],
      "execution_count": 33,
      "outputs": [
        {
          "output_type": "execute_result",
          "data": {
            "text/plain": [
              "(80493, 44)"
            ]
          },
          "metadata": {
            "tags": []
          },
          "execution_count": 33
        }
      ]
    },
    {
      "cell_type": "code",
      "metadata": {
        "id": "DFYWJIpHQ7DP",
        "colab_type": "code",
        "colab": {}
      },
      "source": [
        "new_columns_list = dfTrainNew.columns\n",
        "new_columns_list=new_columns_list[:-1]"
      ],
      "execution_count": 0,
      "outputs": []
    },
    {
      "cell_type": "code",
      "metadata": {
        "id": "PJ6ohr0jTHom",
        "colab_type": "code",
        "outputId": "d8315c46-23d1-49b4-9ea5-58fa5e511382",
        "colab": {
          "base_uri": "https://localhost:8080/",
          "height": 238
        }
      },
      "source": [
        "new_columns_list"
      ],
      "execution_count": 35,
      "outputs": [
        {
          "output_type": "execute_result",
          "data": {
            "text/plain": [
              "Index(['encounter_id', 'race', 'gender', 'age', 'admission_type_id',\n",
              "       'discharge_disposition_id', 'admission_source_id', 'time_in_hospital',\n",
              "       'num_lab_procedures', 'num_procedures', 'num_medications',\n",
              "       'number_outpatient', 'number_emergency', 'number_inpatient',\n",
              "       'number_diagnoses', 'max_glu_serum', 'A1Cresult', 'metformin',\n",
              "       'repaglinide', 'nateglinide', 'chlorpropamide', 'glimepiride',\n",
              "       'acetohexamide', 'glipizide', 'glyburide', 'tolbutamide',\n",
              "       'pioglitazone', 'rosiglitazone', 'acarbose', 'miglitol', 'troglitazone',\n",
              "       'tolazamide', 'insulin', 'glyburide-metformin', 'glipizide-metformin',\n",
              "       'glimepiride-pioglitazone', 'metformin-rosiglitazone',\n",
              "       'metformin-pioglitazone', 'change', 'diabetesMed', 'numchange',\n",
              "       'nummed', 'level1_diag1'],\n",
              "      dtype='object')"
            ]
          },
          "metadata": {
            "tags": []
          },
          "execution_count": 35
        }
      ]
    },
    {
      "cell_type": "code",
      "metadata": {
        "id": "iyLd9tqhgo07",
        "colab_type": "code",
        "colab": {}
      },
      "source": [
        "X_train = dfTrainNew[new_columns_list].values\n",
        "Y_train = dfTrainNew['OUTPUT_LABEL'].values\n",
        "X_valid = dfValidNew[new_columns_list].values\n",
        "Y_valid = dfValidNew['OUTPUT_LABEL'].values\n",
        "X_test = dfTestNew[new_columns_list].values\n",
        "Y_test = dfTestNew['OUTPUT_LABEL'].values"
      ],
      "execution_count": 0,
      "outputs": []
    },
    {
      "cell_type": "code",
      "metadata": {
        "id": "HOSzNJxxR2tt",
        "colab_type": "code",
        "outputId": "914b0f5b-48a2-4f5a-c81e-b64bc7b81f43",
        "colab": {
          "base_uri": "https://localhost:8080/",
          "height": 68
        }
      },
      "source": [
        "print(\"Training Shape - \", X_train.shape)\n",
        "print(\"Validation Shape - \", X_valid.shape)\n",
        "print(\"Testing Shape - \", X_test.shape)"
      ],
      "execution_count": 38,
      "outputs": [
        {
          "output_type": "stream",
          "text": [
            "Training Shape -  (80493, 43)\n",
            "Validation Shape -  (8959, 43)\n",
            "Testing Shape -  (9888, 43)\n"
          ],
          "name": "stdout"
        }
      ]
    },
    {
      "cell_type": "markdown",
      "metadata": {
        "id": "KNqPKbWtjN9S",
        "colab_type": "text"
      },
      "source": [
        "# Data Transformation"
      ]
    },
    {
      "cell_type": "code",
      "metadata": {
        "id": "ObGZ0nZn3gBd",
        "colab_type": "code",
        "outputId": "18c7e6e9-95d9-4ad7-d537-a93ef8d16905",
        "colab": {
          "base_uri": "https://localhost:8080/",
          "height": 34
        }
      },
      "source": [
        "from sklearn.preprocessing import StandardScaler\n",
        "scaler  = StandardScaler()\n",
        "scaler.fit(X_train)"
      ],
      "execution_count": 39,
      "outputs": [
        {
          "output_type": "execute_result",
          "data": {
            "text/plain": [
              "StandardScaler(copy=True, with_mean=True, with_std=True)"
            ]
          },
          "metadata": {
            "tags": []
          },
          "execution_count": 39
        }
      ]
    },
    {
      "cell_type": "code",
      "metadata": {
        "id": "DJqR_5ff3i77",
        "colab_type": "code",
        "colab": {}
      },
      "source": [
        "import pickle\n",
        "from sklearn import metrics\n",
        "scalerfile = 'scaler.sav'\n",
        "pickle.dump(scaler, open(scalerfile, 'wb'))"
      ],
      "execution_count": 0,
      "outputs": []
    },
    {
      "cell_type": "code",
      "metadata": {
        "id": "2cNwfVXZ3l5U",
        "colab_type": "code",
        "colab": {}
      },
      "source": [
        "scaler = pickle.load(open(scalerfile, 'rb'))\n",
        "X_train= scaler.transform(X_train)\n",
        "X_valid = scaler.transform(X_valid)\n",
        "X_test = scaler.transform(X_test)"
      ],
      "execution_count": 0,
      "outputs": []
    },
    {
      "cell_type": "code",
      "metadata": {
        "id": "tajRFQlCIXTX",
        "colab_type": "code",
        "outputId": "ff7e52be-4a06-4137-9719-56635c739aa2",
        "colab": {
          "base_uri": "https://localhost:8080/",
          "height": 34
        }
      },
      "source": [
        "np.unique(Y_train)"
      ],
      "execution_count": 42,
      "outputs": [
        {
          "output_type": "execute_result",
          "data": {
            "text/plain": [
              "array([0, 1, 2])"
            ]
          },
          "metadata": {
            "tags": []
          },
          "execution_count": 42
        }
      ]
    },
    {
      "cell_type": "markdown",
      "metadata": {
        "id": "5xOleCv1jADd",
        "colab_type": "text"
      },
      "source": [
        "# Models"
      ]
    },
    {
      "cell_type": "markdown",
      "metadata": {
        "id": "vN9_FYleJr-v",
        "colab_type": "text"
      },
      "source": [
        "# **Extra Code**"
      ]
    },
    {
      "cell_type": "code",
      "metadata": {
        "id": "xKw7BYMsJrgR",
        "colab_type": "code",
        "colab": {}
      },
      "source": [
        "# rfcModel = RFC()\n",
        "# param_grid = [\n",
        "#   {'max_depth': [5, 10, 15, 20, 30], 'n_estimators': [50, 100, 150, 200], 'min_samples_split' : [0.2, 0.4, 0.6, 0.8]}\n",
        "#  ]\n",
        "# featureSelection(rfcModel, param_grid)\n",
        "# from sklearn.model_selection import GridSearchCV\n",
        "# from sklearn.model_selection import RandomizedSearchCV\n",
        "\n",
        "# def featureSelection(model, params):\n",
        "\n",
        "#   model1 = GridSearchCV(model, param_grid=params, n_jobs=-1)\n",
        "  \n",
        "#   model1.fit(X_train,Y_train_new)\n",
        "  \n",
        "#   print(\"Best Params:\",model1.best_params_)\n",
        "\n",
        "#   Yhat=model1.predict(X_test)\n",
        "#   print(\"Accuracy:\",metrics.accuracy_score(Yhat,Y_test))\n",
        "#   print(\"Confusion Metrix:\\n\",metrics.confusion_matrix(Yhat,Y_test))\n",
        "# rfcBestColumns = ['number_inpatient', 'number_emergency','encounter_id', 'number_outpatient','number_diagnoses','admission_source_id','num_medications', 'nummed','age','level1_diag1']\n",
        "# X_train_rfc = dfTrainNew[rfcBestColumns].values\n",
        "# Y_train_rfc = dfTrainNew['OUTPUT_LABEL'].values\n",
        "# X_valid_rfc = dfValidNew[rfcBestColumns].values\n",
        "# Y_valid_rfc = dfValidNew['OUTPUT_LABEL'].values\n",
        "# X_test_rfc = dfTestNew[rfcBestColumns].values\n",
        "# Y_test_rfc = dfTestNew['OUTPUT_LABEL'].values\n",
        "# rfcModel = RFC(n_estimators = 10, max_depth = 100, min_samples_split = 0.1)\n",
        "# rfcModel.fit(X_train_rfc,Y_train_rfc)\n",
        "# Ypred = rfcModel.predict(X_test_rfc)\n",
        "# valid_acc.append(metrics.accuracy_score(Y_test_rfc, Ypred))\n",
        "# print(metrics.confusion_matrix(Ypred,Y_test_rfc))"
      ],
      "execution_count": 0,
      "outputs": []
    },
    {
      "cell_type": "markdown",
      "metadata": {
        "id": "343eRfRGKrPN",
        "colab_type": "text"
      },
      "source": [
        "## Voting Classifier"
      ]
    },
    {
      "cell_type": "code",
      "metadata": {
        "id": "BQQpIMEJKqm4",
        "colab_type": "code",
        "outputId": "91cf6877-a7b8-49d5-a8ee-e88ea9d3a8e8",
        "colab": {
          "base_uri": "https://localhost:8080/",
          "height": 581
        }
      },
      "source": [
        "# from sklearn.ensemble import VotingClassifier\n",
        "# estimators = [('lr', logreg), ('rfc', rfcModel), ('svm', svmModel)]\n",
        "\n",
        "# voting = VotingClassifier(estimators,voting='soft',weights=[1,2, 1])\n",
        "# voting.fit(X_train, Y_train)"
      ],
      "execution_count": 0,
      "outputs": [
        {
          "output_type": "stream",
          "text": [
            "/usr/local/lib/python3.6/dist-packages/sklearn/svm/base.py:193: FutureWarning: The default value of gamma will change from 'auto' to 'scale' in version 0.22 to account better for unscaled features. Set gamma explicitly to 'auto' or 'scale' to avoid this warning.\n",
            "  \"avoid this warning.\", FutureWarning)\n"
          ],
          "name": "stderr"
        },
        {
          "output_type": "stream",
          "text": [
            "[LibSVM]"
          ],
          "name": "stdout"
        },
        {
          "output_type": "stream",
          "text": [
            "/usr/local/lib/python3.6/dist-packages/sklearn/svm/base.py:241: ConvergenceWarning: Solver terminated early (max_iter=400).  Consider pre-processing your data with StandardScaler or MinMaxScaler.\n",
            "  % self.max_iter, ConvergenceWarning)\n"
          ],
          "name": "stderr"
        },
        {
          "output_type": "execute_result",
          "data": {
            "text/plain": [
              "VotingClassifier(estimators=[('lr',\n",
              "                              LogisticRegression(C=1.0, class_weight=None,\n",
              "                                                 dual=False, fit_intercept=True,\n",
              "                                                 intercept_scaling=1,\n",
              "                                                 l1_ratio=None, max_iter=300,\n",
              "                                                 multi_class='multinomial',\n",
              "                                                 n_jobs=None, penalty='l1',\n",
              "                                                 random_state=None,\n",
              "                                                 solver='saga', tol=0.0001,\n",
              "                                                 verbose=0, warm_start=False)),\n",
              "                             ('rfc',\n",
              "                              RandomForestClassifier(bootstrap=True,\n",
              "                                                     class_weight=None,\n",
              "                                                     criterion...\n",
              "                                                     oob_score=False,\n",
              "                                                     random_state=None,\n",
              "                                                     verbose=0,\n",
              "                                                     warm_start=False)),\n",
              "                             ('svm',\n",
              "                              SVC(C=1.0, cache_size=200,\n",
              "                                  class_weight='balanced', coef0=0.0,\n",
              "                                  decision_function_shape='ovr', degree=3,\n",
              "                                  gamma='auto_deprecated', kernel='sigmoid',\n",
              "                                  max_iter=400, probability=True,\n",
              "                                  random_state=2, shrinking=True, tol=0.001,\n",
              "                                  verbose=True))],\n",
              "                 flatten_transform=True, n_jobs=None, voting='soft',\n",
              "                 weights=[1, 2, 1])"
            ]
          },
          "metadata": {
            "tags": []
          },
          "execution_count": 105
        }
      ]
    },
    {
      "cell_type": "code",
      "metadata": {
        "id": "CqdRUKwCRes3",
        "colab_type": "code",
        "outputId": "0ebc9be1-15dc-489e-db36-ddb40b77cc76",
        "colab": {
          "base_uri": "https://localhost:8080/",
          "height": 85
        }
      },
      "source": [
        "# Y_pred = voting.predict(X_valid)\n",
        "# print(metrics.accuracy_score(Y_valid, Y_pred))\n",
        "# print(metrics.confusion_matrix(Y_valid,Y_pred))"
      ],
      "execution_count": 0,
      "outputs": [
        {
          "output_type": "stream",
          "text": [
            "0.5084272798303382\n",
            "[[4074    0  746]\n",
            " [ 870    0  178]\n",
            " [2610    0  481]]\n"
          ],
          "name": "stdout"
        }
      ]
    },
    {
      "cell_type": "markdown",
      "metadata": {
        "id": "gNhsKMVI4RTo",
        "colab_type": "text"
      },
      "source": [
        "## CNN"
      ]
    },
    {
      "cell_type": "code",
      "metadata": {
        "id": "laEXjd7bVNeg",
        "colab_type": "code",
        "colab": {}
      },
      "source": [
        "# import numpy as np\n",
        "# import pandas as pd\n",
        "# np.random.seed(14)\n",
        "\n",
        "# import keras\n",
        "# from keras.models import Sequential\n",
        "# from keras.layers import Dense, Flatten\n",
        "# from keras.optimizers import SGD\n",
        "\n",
        "# from keras.layers import Dropout, Activation, Conv2D, MaxPooling2D, MaxPooling1D, GlobalAveragePooling1D\n",
        "# from keras.layers.normalization import BatchNormalization \n",
        "# from keras import regularizers \n",
        "# from keras.layers.convolutional import Conv1D\n",
        "\n",
        "# from sklearn.model_selection import train_test_split\n",
        "# from matplotlib import pyplot as plt\n",
        "# from numpy import array"
      ],
      "execution_count": 0,
      "outputs": []
    },
    {
      "cell_type": "code",
      "metadata": {
        "id": "Y6SPCCmC51s1",
        "colab_type": "code",
        "outputId": "da180492-94e7-4120-e60b-f283be24e2a0",
        "colab": {
          "base_uri": "https://localhost:8080/",
          "height": 51
        }
      },
      "source": [
        "# X_train_np = np.expand_dims(X_train, axis=2)\n",
        "# print(X_train_np.shape)\n",
        "# X_test_np = np.expand_dims(X_test, axis=2)\n",
        "# print(X_test_np.shape)\n",
        "# n_classes = 3\n",
        "# Y_trainNN = keras.utils.to_categorical(Y_train, n_classes)\n",
        "# Y_testNN = keras.utils.to_categorical(Y_test, n_classes)"
      ],
      "execution_count": 0,
      "outputs": [
        {
          "output_type": "stream",
          "text": [
            "(80493, 43, 1)\n",
            "(9888, 43, 1)\n"
          ],
          "name": "stdout"
        }
      ]
    },
    {
      "cell_type": "code",
      "metadata": {
        "id": "p4nr9v9M-vSX",
        "colab_type": "code",
        "outputId": "05a73a95-5a2c-4b87-dddf-8f0f283562bc",
        "colab": {
          "base_uri": "https://localhost:8080/",
          "height": 136
        }
      },
      "source": [
        "# Y_trainNN"
      ],
      "execution_count": 0,
      "outputs": [
        {
          "output_type": "execute_result",
          "data": {
            "text/plain": [
              "array([[0., 1., 0.],\n",
              "       [0., 0., 1.],\n",
              "       [0., 0., 1.],\n",
              "       ...,\n",
              "       [0., 1., 0.],\n",
              "       [0., 0., 1.],\n",
              "       [0., 0., 1.]], dtype=float32)"
            ]
          },
          "metadata": {
            "tags": []
          },
          "execution_count": 410
        }
      ]
    },
    {
      "cell_type": "code",
      "metadata": {
        "id": "L4EMdMon3jEp",
        "colab_type": "code",
        "colab": {}
      },
      "source": [
        "# def create_dense():\n",
        "#     model = Sequential()\n",
        "\n",
        "#     model.add(Conv1D(32, 3, padding ='same', input_shape=(43,1)))\n",
        "#     model.add(BatchNormalization())\n",
        "#     model.add(Activation('relu'))\n",
        "#     model.add(MaxPooling1D(2))\n",
        "    \n",
        "# #     model.add(Conv1D(64, 3, padding ='same'))\n",
        "# #     model.add(BatchNormalization())\n",
        "# #     model.add(Activation('relu'))\n",
        "# #     model.add(MaxPooling1D(2))\n",
        "    \n",
        "#     model.add(Conv1D(64, 3, padding ='same'))\n",
        "#     model.add(BatchNormalization())\n",
        "#     model.add(Activation('relu'))\n",
        "#     model.add(MaxPooling1D(2))\n",
        "  \n",
        "#     model.add(GlobalAveragePooling1D())\n",
        "  \n",
        "#     model.add(Dense(128, activation='relu'))\n",
        "#     model.add(Dropout(0.2))\n",
        "    \n",
        "#     model.add(Dense(128, activation = 'relu'))\n",
        "#     model.add(Dropout(0.2))\n",
        "    \n",
        "#     model.add(Dense(3, activation='softmax'))\n",
        "    \n",
        "#     model.compile(loss='categorical_crossentropy',\n",
        "#                   optimizer='adam',\n",
        "#                   metrics=['accuracy'])\n",
        "#     return model\n",
        "\n",
        "# def evaluate(model, batch_size=128, epochs=50):\n",
        "#     model.summary()\n",
        "#     history = model.fit(X_train_np, Y_trainNN, batch_size=batch_size, epochs=epochs, verbose=1, validation_data=(X_test_np, Y_testNN))\n",
        "#     loss, accuracy  = model.evaluate(X_test_np, Y_testNN, verbose=True)\n",
        "#     print(f'Test loss: {loss:.3}')\n",
        "#     print(f'Test accuracy: {accuracy:.3}')\n",
        "#     plt.plot(history.history['acc'])\n",
        "#     plt.plot(history.history['val_acc'])\n",
        "#     plt.title('model accuracy')\n",
        "#     plt.ylabel('accuracy')\n",
        "#     plt.xlabel('epoch')\n",
        "#     plt.legend(['training', 'validation'], loc='best')\n",
        "#     plt.show()"
      ],
      "execution_count": 0,
      "outputs": []
    },
    {
      "cell_type": "code",
      "metadata": {
        "id": "iCZ1esQ-4hxN",
        "colab_type": "code",
        "outputId": "cfd07cbb-56d2-418b-8772-8e4ac885f23b",
        "colab": {
          "base_uri": "https://localhost:8080/",
          "height": 2658
        }
      },
      "source": [
        "# model = create_dense()\n",
        "# evaluate(model)"
      ],
      "execution_count": 0,
      "outputs": [
        {
          "output_type": "stream",
          "text": [
            "_________________________________________________________________\n",
            "Layer (type)                 Output Shape              Param #   \n",
            "=================================================================\n",
            "conv1d_32 (Conv1D)           (None, 43, 32)            128       \n",
            "_________________________________________________________________\n",
            "batch_normalization_41 (Batc (None, 43, 32)            128       \n",
            "_________________________________________________________________\n",
            "activation_31 (Activation)   (None, 43, 32)            0         \n",
            "_________________________________________________________________\n",
            "max_pooling1d_31 (MaxPooling (None, 21, 32)            0         \n",
            "_________________________________________________________________\n",
            "conv1d_33 (Conv1D)           (None, 21, 64)            6208      \n",
            "_________________________________________________________________\n",
            "batch_normalization_42 (Batc (None, 21, 64)            256       \n",
            "_________________________________________________________________\n",
            "activation_32 (Activation)   (None, 21, 64)            0         \n",
            "_________________________________________________________________\n",
            "max_pooling1d_32 (MaxPooling (None, 10, 64)            0         \n",
            "_________________________________________________________________\n",
            "global_average_pooling1d_12  (None, 64)                0         \n",
            "_________________________________________________________________\n",
            "dense_52 (Dense)             (None, 128)               8320      \n",
            "_________________________________________________________________\n",
            "dropout_33 (Dropout)         (None, 128)               0         \n",
            "_________________________________________________________________\n",
            "dense_53 (Dense)             (None, 128)               16512     \n",
            "_________________________________________________________________\n",
            "dropout_34 (Dropout)         (None, 128)               0         \n",
            "_________________________________________________________________\n",
            "dense_54 (Dense)             (None, 3)                 387       \n",
            "=================================================================\n",
            "Total params: 31,939\n",
            "Trainable params: 31,747\n",
            "Non-trainable params: 192\n",
            "_________________________________________________________________\n",
            "Train on 80493 samples, validate on 9888 samples\n",
            "Epoch 1/50\n",
            "80493/80493 [==============================] - 11s 138us/step - loss: 0.9432 - acc: 0.5294 - val_loss: 0.9711 - val_acc: 0.5389\n",
            "Epoch 2/50\n",
            "80493/80493 [==============================] - 8s 101us/step - loss: 0.9245 - acc: 0.5454 - val_loss: 0.9663 - val_acc: 0.4964\n",
            "Epoch 3/50\n",
            "80493/80493 [==============================] - 8s 99us/step - loss: 0.9191 - acc: 0.5540 - val_loss: 0.9825 - val_acc: 0.5368\n",
            "Epoch 4/50\n",
            "80493/80493 [==============================] - 8s 99us/step - loss: 0.9149 - acc: 0.5583 - val_loss: 0.9951 - val_acc: 0.5053\n",
            "Epoch 5/50\n",
            "80493/80493 [==============================] - 8s 100us/step - loss: 0.9111 - acc: 0.5618 - val_loss: 0.9845 - val_acc: 0.5114\n",
            "Epoch 6/50\n",
            "80493/80493 [==============================] - 8s 99us/step - loss: 0.9088 - acc: 0.5654 - val_loss: 0.9949 - val_acc: 0.4712\n",
            "Epoch 7/50\n",
            "80493/80493 [==============================] - 8s 99us/step - loss: 0.9074 - acc: 0.5678 - val_loss: 0.9829 - val_acc: 0.5023\n",
            "Epoch 8/50\n",
            "80493/80493 [==============================] - 8s 99us/step - loss: 0.9061 - acc: 0.5689 - val_loss: 1.0260 - val_acc: 0.4336\n",
            "Epoch 9/50\n",
            "80493/80493 [==============================] - 8s 99us/step - loss: 0.9033 - acc: 0.5727 - val_loss: 1.0230 - val_acc: 0.4364\n",
            "Epoch 10/50\n",
            "80493/80493 [==============================] - 8s 100us/step - loss: 0.9035 - acc: 0.5709 - val_loss: 0.9835 - val_acc: 0.4694\n",
            "Epoch 11/50\n",
            "80493/80493 [==============================] - 8s 99us/step - loss: 0.9028 - acc: 0.5716 - val_loss: 1.0059 - val_acc: 0.4341\n",
            "Epoch 12/50\n",
            "80493/80493 [==============================] - 8s 100us/step - loss: 0.9012 - acc: 0.5731 - val_loss: 0.9938 - val_acc: 0.4745\n",
            "Epoch 13/50\n",
            "80493/80493 [==============================] - 8s 100us/step - loss: 0.9018 - acc: 0.5720 - val_loss: 0.9905 - val_acc: 0.5186\n",
            "Epoch 14/50\n",
            "80493/80493 [==============================] - 8s 99us/step - loss: 0.8999 - acc: 0.5749 - val_loss: 1.0540 - val_acc: 0.5316\n",
            "Epoch 15/50\n",
            "80493/80493 [==============================] - 8s 99us/step - loss: 0.8988 - acc: 0.5746 - val_loss: 1.0013 - val_acc: 0.5132\n",
            "Epoch 16/50\n",
            "80493/80493 [==============================] - 8s 100us/step - loss: 0.8988 - acc: 0.5755 - val_loss: 0.9994 - val_acc: 0.5195\n",
            "Epoch 17/50\n",
            "80493/80493 [==============================] - 8s 99us/step - loss: 0.8986 - acc: 0.5759 - val_loss: 0.9958 - val_acc: 0.4632\n",
            "Epoch 18/50\n",
            "80493/80493 [==============================] - 8s 100us/step - loss: 0.8974 - acc: 0.5766 - val_loss: 1.0066 - val_acc: 0.4822\n",
            "Epoch 19/50\n",
            "80493/80493 [==============================] - 8s 99us/step - loss: 0.8964 - acc: 0.5779 - val_loss: 1.0419 - val_acc: 0.5029\n",
            "Epoch 20/50\n",
            "80493/80493 [==============================] - 8s 99us/step - loss: 0.8966 - acc: 0.5765 - val_loss: 1.0035 - val_acc: 0.5213\n",
            "Epoch 21/50\n",
            "80493/80493 [==============================] - 8s 99us/step - loss: 0.8961 - acc: 0.5772 - val_loss: 1.0091 - val_acc: 0.5176\n",
            "Epoch 22/50\n",
            "80493/80493 [==============================] - 8s 99us/step - loss: 0.8958 - acc: 0.5780 - val_loss: 0.9878 - val_acc: 0.4860\n",
            "Epoch 23/50\n",
            "80493/80493 [==============================] - 8s 98us/step - loss: 0.8958 - acc: 0.5766 - val_loss: 0.9997 - val_acc: 0.4710\n",
            "Epoch 24/50\n",
            "80493/80493 [==============================] - 8s 98us/step - loss: 0.8950 - acc: 0.5773 - val_loss: 0.9971 - val_acc: 0.4922\n",
            "Epoch 25/50\n",
            "80493/80493 [==============================] - 8s 98us/step - loss: 0.8936 - acc: 0.5801 - val_loss: 0.9906 - val_acc: 0.4966\n",
            "Epoch 26/50\n",
            "80493/80493 [==============================] - 8s 99us/step - loss: 0.8945 - acc: 0.5780 - val_loss: 0.9990 - val_acc: 0.4772\n",
            "Epoch 27/50\n",
            "80493/80493 [==============================] - 8s 98us/step - loss: 0.8935 - acc: 0.5799 - val_loss: 1.0056 - val_acc: 0.5204\n",
            "Epoch 28/50\n",
            "80493/80493 [==============================] - 8s 99us/step - loss: 0.8927 - acc: 0.5800 - val_loss: 1.0155 - val_acc: 0.4819\n",
            "Epoch 29/50\n",
            "80493/80493 [==============================] - 8s 99us/step - loss: 0.8928 - acc: 0.5795 - val_loss: 0.9984 - val_acc: 0.4659\n",
            "Epoch 30/50\n",
            "80493/80493 [==============================] - 8s 99us/step - loss: 0.8927 - acc: 0.5813 - val_loss: 1.0018 - val_acc: 0.5189\n",
            "Epoch 31/50\n",
            "80493/80493 [==============================] - 8s 99us/step - loss: 0.8920 - acc: 0.5792 - val_loss: 0.9962 - val_acc: 0.5013\n",
            "Epoch 32/50\n",
            "80493/80493 [==============================] - 8s 99us/step - loss: 0.8920 - acc: 0.5809 - val_loss: 1.0214 - val_acc: 0.4992\n",
            "Epoch 33/50\n",
            "80493/80493 [==============================] - 8s 99us/step - loss: 0.8913 - acc: 0.5830 - val_loss: 1.0010 - val_acc: 0.4922\n",
            "Epoch 34/50\n",
            "80493/80493 [==============================] - 8s 100us/step - loss: 0.8909 - acc: 0.5817 - val_loss: 0.9883 - val_acc: 0.5057\n",
            "Epoch 35/50\n",
            "80493/80493 [==============================] - 8s 98us/step - loss: 0.8909 - acc: 0.5817 - val_loss: 1.0199 - val_acc: 0.5260\n",
            "Epoch 36/50\n",
            "80493/80493 [==============================] - 8s 96us/step - loss: 0.8901 - acc: 0.5818 - val_loss: 0.9929 - val_acc: 0.5010\n",
            "Epoch 37/50\n",
            "80493/80493 [==============================] - 8s 98us/step - loss: 0.8904 - acc: 0.5817 - val_loss: 1.0107 - val_acc: 0.4627\n",
            "Epoch 38/50\n",
            "80493/80493 [==============================] - 8s 98us/step - loss: 0.8902 - acc: 0.5827 - val_loss: 0.9942 - val_acc: 0.5019\n",
            "Epoch 39/50\n",
            "80493/80493 [==============================] - 8s 98us/step - loss: 0.8906 - acc: 0.5818 - val_loss: 1.0073 - val_acc: 0.4822\n",
            "Epoch 40/50\n",
            "80493/80493 [==============================] - 8s 98us/step - loss: 0.8897 - acc: 0.5817 - val_loss: 0.9935 - val_acc: 0.4811\n",
            "Epoch 41/50\n",
            "80493/80493 [==============================] - 8s 99us/step - loss: 0.8895 - acc: 0.5815 - val_loss: 1.0138 - val_acc: 0.4558\n",
            "Epoch 42/50\n",
            "80493/80493 [==============================] - 8s 97us/step - loss: 0.8884 - acc: 0.5836 - val_loss: 1.0085 - val_acc: 0.5023\n",
            "Epoch 43/50\n",
            "80493/80493 [==============================] - 8s 98us/step - loss: 0.8885 - acc: 0.5832 - val_loss: 1.0211 - val_acc: 0.5225\n",
            "Epoch 44/50\n",
            "80493/80493 [==============================] - 8s 97us/step - loss: 0.8888 - acc: 0.5830 - val_loss: 1.0075 - val_acc: 0.4873\n",
            "Epoch 45/50\n",
            "80493/80493 [==============================] - 8s 96us/step - loss: 0.8884 - acc: 0.5825 - val_loss: 1.0066 - val_acc: 0.4640\n",
            "Epoch 46/50\n",
            "80493/80493 [==============================] - 8s 97us/step - loss: 0.8883 - acc: 0.5834 - val_loss: 1.0039 - val_acc: 0.5063\n",
            "Epoch 47/50\n",
            "80493/80493 [==============================] - 8s 96us/step - loss: 0.8885 - acc: 0.5837 - val_loss: 0.9894 - val_acc: 0.5047\n",
            "Epoch 48/50\n",
            "80493/80493 [==============================] - 8s 96us/step - loss: 0.8873 - acc: 0.5827 - val_loss: 1.0236 - val_acc: 0.5029\n",
            "Epoch 49/50\n",
            "80493/80493 [==============================] - 8s 97us/step - loss: 0.8870 - acc: 0.5842 - val_loss: 1.0102 - val_acc: 0.4662\n",
            "Epoch 50/50\n",
            "80493/80493 [==============================] - 8s 98us/step - loss: 0.8876 - acc: 0.5840 - val_loss: 0.9993 - val_acc: 0.4891\n",
            "9888/9888 [==============================] - 1s 92us/step\n",
            "Test loss: 0.999\n",
            "Test accuracy: 0.489\n"
          ],
          "name": "stdout"
        },
        {
          "output_type": "display_data",
          "data": {
            "image/png": "[encoded data removed]",
            "text/plain": [
              "<Figure size 432x288 with 1 Axes>"
            ]
          },
          "metadata": {
            "tags": []
          }
        }
      ]
    },
    {
      "cell_type": "code",
      "metadata": {
        "id": "9j794xw-_kQp",
        "colab_type": "code",
        "outputId": "f9f9526b-9fec-4a4f-e553-b1a4b5f57b38",
        "colab": {
          "base_uri": "https://localhost:8080/",
          "height": 1638
        }
      },
      "source": [
        ""
      ],
      "execution_count": 0,
      "outputs": [
        {
          "output_type": "stream",
          "text": [
            "_________________________________________________________________\n",
            "Layer (type)                 Output Shape              Param #   \n",
            "=================================================================\n",
            "conv1d_25 (Conv1D)           (None, 43, 32)            128       \n",
            "_________________________________________________________________\n",
            "batch_normalization_34 (Batc (None, 43, 32)            128       \n",
            "_________________________________________________________________\n",
            "activation_24 (Activation)   (None, 43, 32)            0         \n",
            "_________________________________________________________________\n",
            "max_pooling1d_24 (MaxPooling (None, 21, 32)            0         \n",
            "_________________________________________________________________\n",
            "conv1d_26 (Conv1D)           (None, 21, 64)            6208      \n",
            "_________________________________________________________________\n",
            "batch_normalization_35 (Batc (None, 21, 64)            256       \n",
            "_________________________________________________________________\n",
            "activation_25 (Activation)   (None, 21, 64)            0         \n",
            "_________________________________________________________________\n",
            "max_pooling1d_25 (MaxPooling (None, 10, 64)            0         \n",
            "_________________________________________________________________\n",
            "global_average_pooling1d_9 ( (None, 64)                0         \n",
            "_________________________________________________________________\n",
            "dense_43 (Dense)             (None, 128)               8320      \n",
            "_________________________________________________________________\n",
            "dropout_27 (Dropout)         (None, 128)               0         \n",
            "_________________________________________________________________\n",
            "dense_44 (Dense)             (None, 128)               16512     \n",
            "_________________________________________________________________\n",
            "dropout_28 (Dropout)         (None, 128)               0         \n",
            "_________________________________________________________________\n",
            "dense_45 (Dense)             (None, 3)                 387       \n",
            "=================================================================\n",
            "Total params: 31,939\n",
            "Trainable params: 31,747\n",
            "Non-trainable params: 192\n",
            "_________________________________________________________________\n",
            "Train on 81125 samples, validate on 9983 samples\n",
            "Epoch 1/20\n",
            "81125/81125 [==============================] - 8s 97us/step - loss: 0.8959 - acc: 0.5784 - val_loss: 0.9923 - val_acc: 0.5132\n",
            "Epoch 2/20\n",
            "81125/81125 [==============================] - 8s 97us/step - loss: 0.8951 - acc: 0.5791 - val_loss: 1.0049 - val_acc: 0.5086\n",
            "Epoch 3/20\n",
            "81125/81125 [==============================] - 8s 97us/step - loss: 0.8947 - acc: 0.5791 - val_loss: 0.9969 - val_acc: 0.5093\n",
            "Epoch 4/20\n",
            "81125/81125 [==============================] - 8s 97us/step - loss: 0.8942 - acc: 0.5780 - val_loss: 1.0002 - val_acc: 0.5265\n",
            "Epoch 5/20\n",
            "81125/81125 [==============================] - 8s 97us/step - loss: 0.8939 - acc: 0.5793 - val_loss: 1.0386 - val_acc: 0.4109\n",
            "Epoch 6/20\n",
            "81125/81125 [==============================] - 8s 98us/step - loss: 0.8939 - acc: 0.5808 - val_loss: 1.0010 - val_acc: 0.4552\n",
            "Epoch 7/20\n",
            "81125/81125 [==============================] - 8s 98us/step - loss: 0.8927 - acc: 0.5800 - val_loss: 1.0073 - val_acc: 0.4789\n",
            "Epoch 8/20\n",
            "81125/81125 [==============================] - 8s 97us/step - loss: 0.8931 - acc: 0.5782 - val_loss: 1.0188 - val_acc: 0.5076\n",
            "Epoch 9/20\n",
            "81125/81125 [==============================] - 8s 97us/step - loss: 0.8914 - acc: 0.5807 - val_loss: 0.9985 - val_acc: 0.4554\n",
            "Epoch 10/20\n",
            "81125/81125 [==============================] - 8s 96us/step - loss: 0.8918 - acc: 0.5812 - val_loss: 1.0122 - val_acc: 0.4570\n",
            "Epoch 11/20\n",
            "81125/81125 [==============================] - 8s 98us/step - loss: 0.8916 - acc: 0.5811 - val_loss: 1.0055 - val_acc: 0.5011\n",
            "Epoch 12/20\n",
            "81125/81125 [==============================] - 8s 96us/step - loss: 0.8909 - acc: 0.5815 - val_loss: 0.9986 - val_acc: 0.4962\n",
            "Epoch 13/20\n",
            "81125/81125 [==============================] - 8s 97us/step - loss: 0.8913 - acc: 0.5810 - val_loss: 0.9922 - val_acc: 0.5079\n",
            "Epoch 14/20\n",
            "81125/81125 [==============================] - 8s 96us/step - loss: 0.8909 - acc: 0.5828 - val_loss: 1.0203 - val_acc: 0.5193\n",
            "Epoch 15/20\n",
            "81125/81125 [==============================] - 8s 97us/step - loss: 0.8901 - acc: 0.5810 - val_loss: 1.0050 - val_acc: 0.5234\n",
            "Epoch 16/20\n",
            "81125/81125 [==============================] - 8s 96us/step - loss: 0.8898 - acc: 0.5812 - val_loss: 0.9981 - val_acc: 0.4985\n",
            "Epoch 17/20\n",
            "81125/81125 [==============================] - 8s 96us/step - loss: 0.8893 - acc: 0.5823 - val_loss: 1.0228 - val_acc: 0.4775\n",
            "Epoch 18/20\n",
            "81125/81125 [==============================] - 8s 97us/step - loss: 0.8899 - acc: 0.5824 - val_loss: 0.9911 - val_acc: 0.4954\n",
            "Epoch 19/20\n",
            "81125/81125 [==============================] - 8s 97us/step - loss: 0.8896 - acc: 0.5816 - val_loss: 1.0135 - val_acc: 0.5283\n",
            "Epoch 20/20\n",
            "81125/81125 [==============================] - 8s 97us/step - loss: 0.8887 - acc: 0.5827 - val_loss: 0.9930 - val_acc: 0.4968\n",
            "9983/9983 [==============================] - 1s 89us/step\n",
            "Test loss: 0.993\n",
            "Test accuracy: 0.497\n"
          ],
          "name": "stdout"
        },
        {
          "output_type": "display_data",
          "data": {
            "image/png": "[encoded data removed]",
            "text/plain": [
              "<Figure size 432x288 with 1 Axes>"
            ]
          },
          "metadata": {
            "tags": []
          }
        }
      ]
    },
    {
      "cell_type": "markdown",
      "metadata": {
        "id": "25Be4fgUkgZh",
        "colab_type": "text"
      },
      "source": [
        "## MLP"
      ]
    },
    {
      "cell_type": "code",
      "metadata": {
        "id": "MRJRj0EjpoPz",
        "colab_type": "code",
        "colab": {}
      },
      "source": [
        "# from sklearn.neural_network import MLPClassifier\n",
        "# mlpModel = MLPClassifier(solver='adam', alpha=0.01,\n",
        "#                     hidden_layer_sizes=(50,30,50), verbose = True, activation = 'logistic',max_iter=100)"
      ],
      "execution_count": 0,
      "outputs": []
    },
    {
      "cell_type": "code",
      "metadata": {
        "id": "JhAO466UF5HT",
        "colab_type": "code",
        "outputId": "6520035c-1271-4c77-cc84-913cf91e82e7",
        "colab": {
          "base_uri": "https://localhost:8080/",
          "height": 1771
        }
      },
      "source": [
        "# mlpModel.fit(X_train, Y_train)\n",
        "# beep()"
      ],
      "execution_count": 0,
      "outputs": [
        {
          "output_type": "stream",
          "text": [
            "Iteration 1, loss = 0.95962989\n",
            "Iteration 2, loss = 0.91076418\n",
            "Iteration 3, loss = 0.90496750\n",
            "Iteration 4, loss = 0.90370744\n",
            "Iteration 5, loss = 0.90272098\n",
            "Iteration 6, loss = 0.90156731\n",
            "Iteration 7, loss = 0.90040389\n",
            "Iteration 8, loss = 0.89937824\n",
            "Iteration 9, loss = 0.89870407\n",
            "Iteration 10, loss = 0.89774147\n",
            "Iteration 11, loss = 0.89727030\n",
            "Iteration 12, loss = 0.89647014\n",
            "Iteration 13, loss = 0.89618264\n",
            "Iteration 14, loss = 0.89532678\n",
            "Iteration 15, loss = 0.89475924\n",
            "Iteration 16, loss = 0.89411584\n",
            "Iteration 17, loss = 0.89375893\n",
            "Iteration 18, loss = 0.89310256\n",
            "Iteration 19, loss = 0.89296278\n",
            "Iteration 20, loss = 0.89213360\n",
            "Iteration 21, loss = 0.89167908\n",
            "Iteration 22, loss = 0.89103702\n",
            "Iteration 23, loss = 0.89076671\n",
            "Iteration 24, loss = 0.89051984\n",
            "Iteration 25, loss = 0.89013171\n",
            "Iteration 26, loss = 0.88949728\n",
            "Iteration 27, loss = 0.88945059\n",
            "Iteration 28, loss = 0.88944428\n",
            "Iteration 29, loss = 0.88826575\n",
            "Iteration 30, loss = 0.88794771\n",
            "Iteration 31, loss = 0.88763245\n",
            "Iteration 32, loss = 0.88722983\n",
            "Iteration 33, loss = 0.88686777\n",
            "Iteration 34, loss = 0.88632043\n",
            "Iteration 35, loss = 0.88624180\n",
            "Iteration 36, loss = 0.88569782\n",
            "Iteration 37, loss = 0.88525627\n",
            "Iteration 38, loss = 0.88518886\n",
            "Iteration 39, loss = 0.88525592\n",
            "Iteration 40, loss = 0.88461663\n",
            "Iteration 41, loss = 0.88465350\n",
            "Iteration 42, loss = 0.88377033\n",
            "Iteration 43, loss = 0.88380944\n",
            "Iteration 44, loss = 0.88367240\n",
            "Iteration 45, loss = 0.88324527\n",
            "Iteration 46, loss = 0.88306488\n",
            "Iteration 47, loss = 0.88325306\n",
            "Iteration 48, loss = 0.88274245\n",
            "Iteration 49, loss = 0.88262328\n",
            "Iteration 50, loss = 0.88229390\n",
            "Iteration 51, loss = 0.88223138\n",
            "Iteration 52, loss = 0.88164822\n",
            "Iteration 53, loss = 0.88157648\n",
            "Iteration 54, loss = 0.88124902\n",
            "Iteration 55, loss = 0.88146801\n",
            "Iteration 56, loss = 0.88098910\n",
            "Iteration 57, loss = 0.88096211\n",
            "Iteration 58, loss = 0.88070146\n",
            "Iteration 59, loss = 0.88074439\n",
            "Iteration 60, loss = 0.88051903\n",
            "Iteration 61, loss = 0.88045115\n",
            "Iteration 62, loss = 0.88042919\n",
            "Iteration 63, loss = 0.88003804\n",
            "Iteration 64, loss = 0.87983713\n",
            "Iteration 65, loss = 0.87983848\n",
            "Iteration 66, loss = 0.87965422\n",
            "Iteration 67, loss = 0.87920992\n",
            "Iteration 68, loss = 0.87932093\n",
            "Iteration 69, loss = 0.87935918\n",
            "Iteration 70, loss = 0.87898312\n",
            "Iteration 71, loss = 0.87886559\n",
            "Iteration 72, loss = 0.87875382\n",
            "Iteration 73, loss = 0.87896364\n",
            "Iteration 74, loss = 0.87854088\n",
            "Iteration 75, loss = 0.87890904\n",
            "Iteration 76, loss = 0.87827143\n",
            "Iteration 77, loss = 0.87829264\n",
            "Iteration 78, loss = 0.87819384\n",
            "Iteration 79, loss = 0.87807535\n",
            "Iteration 80, loss = 0.87813021\n",
            "Iteration 81, loss = 0.87788615\n",
            "Iteration 82, loss = 0.87794809\n",
            "Iteration 83, loss = 0.87764773\n",
            "Iteration 84, loss = 0.87751930\n",
            "Iteration 85, loss = 0.87768884\n",
            "Iteration 86, loss = 0.87764474\n",
            "Iteration 87, loss = 0.87732892\n",
            "Iteration 88, loss = 0.87741462\n",
            "Iteration 89, loss = 0.87737423\n",
            "Iteration 90, loss = 0.87729213\n",
            "Iteration 91, loss = 0.87713542\n",
            "Iteration 92, loss = 0.87698857\n",
            "Iteration 93, loss = 0.87693800\n",
            "Iteration 94, loss = 0.87671444\n",
            "Iteration 95, loss = 0.87669321\n",
            "Iteration 96, loss = 0.87685906\n",
            "Iteration 97, loss = 0.87654816\n",
            "Iteration 98, loss = 0.87639345\n",
            "Iteration 99, loss = 0.87647798\n",
            "Iteration 100, loss = 0.87621020\n"
          ],
          "name": "stdout"
        },
        {
          "output_type": "stream",
          "text": [
            "/usr/local/lib/python3.6/dist-packages/sklearn/neural_network/multilayer_perceptron.py:566: ConvergenceWarning: Stochastic Optimizer: Maximum iterations (100) reached and the optimization hasn't converged yet.\n",
            "  % self.max_iter, ConvergenceWarning)\n"
          ],
          "name": "stderr"
        }
      ]
    },
    {
      "cell_type": "markdown",
      "metadata": {
        "id": "2V_tbvVHFjXs",
        "colab_type": "text"
      },
      "source": [
        "# Accuracy Function"
      ]
    },
    {
      "cell_type": "code",
      "metadata": {
        "id": "EPDm3KUwFidF",
        "colab_type": "code",
        "colab": {}
      },
      "source": [
        "def printMetrics(Y, Ypred):\n",
        "  print(metrics.accuracy_score(Y, Ypred))\n",
        "  print(\"Condusion Matrix - \\n\", metrics.confusion_matrix(Y,Ypred))"
      ],
      "execution_count": 0,
      "outputs": []
    },
    {
      "cell_type": "markdown",
      "metadata": {
        "id": "hHtnQRWAjZ2X",
        "colab_type": "text"
      },
      "source": [
        "# **Random Forest**"
      ]
    },
    {
      "cell_type": "code",
      "metadata": {
        "id": "P226aguogQ0x",
        "colab_type": "code",
        "colab": {}
      },
      "source": [
        "from sklearn.ensemble import RandomForestClassifier as RFC"
      ],
      "execution_count": 0,
      "outputs": []
    },
    {
      "cell_type": "code",
      "metadata": {
        "id": "rJHKLTK5gcUZ",
        "colab_type": "code",
        "outputId": "18cc6192-8f1b-422b-d77f-56b56499bc8b",
        "colab": {
          "base_uri": "https://localhost:8080/",
          "height": 323
        }
      },
      "source": [
        "max_depth = [10, 50, 100, 150, 200, 250, 300]\n",
        "n_estimators =  [5, 10, 15, 20, 30]\n",
        "minSampleLeaf = [0.1, 0.3, 0.5, 0.7]\n",
        "\n",
        "rfcModel = RFC(n_estimators = 20,max_depth = 20,  max_leaf_nodes = 5,min_samples_split = 2,max_features = 'sqrt')\n",
        "rfcModel.fit(X_train,Y_train)\n",
        "Ytr_pred = rfcModel.predict(X_train)\n",
        "Yva_pred = rfcModel.predict(X_valid)\n",
        "Yte_pred = rfcModel.predict(X_test)\n",
        "print(\"Training Acc - \")\n",
        "printMetrics(Y_train, Ytr_pred)\n",
        "print(\"Validation Acc - \")\n",
        "printMetrics(Y_valid, Yva_pred)\n",
        "print(\"Test Acc - \")\n",
        "printMetrics(Y_test, Yte_pred)\n",
        "beep()"
      ],
      "execution_count": 0,
      "outputs": [
        {
          "output_type": "stream",
          "text": [
            "Training Acc - \n",
            "0.544954219621582\n",
            "Condusion Matrix - \n",
            " [[41725     0   852]\n",
            " [ 8274     0   889]\n",
            " [26613     0  2140]]\n",
            "Validation Acc - \n",
            "0.5289652863042751\n",
            "Condusion Matrix - \n",
            " [[4590    0  230]\n",
            " [ 991    0   57]\n",
            " [2942    0  149]]\n",
            "Test Acc - \n",
            "0.5198220064724919\n",
            "Condusion Matrix - \n",
            " [[4995    0  300]\n",
            " [1097    0   54]\n",
            " [3297    0  145]]\n"
          ],
          "name": "stdout"
        }
      ]
    },
    {
      "cell_type": "markdown",
      "metadata": {
        "id": "cuMOywwoKRZY",
        "colab_type": "text"
      },
      "source": [
        "**Feature Importance**"
      ]
    },
    {
      "cell_type": "code",
      "metadata": {
        "id": "kzmNTVwAsGvo",
        "colab_type": "code",
        "outputId": "6ef93bc4-dba1-4704-c235-bcb168269685",
        "colab": {
          "base_uri": "https://localhost:8080/",
          "height": 404
        }
      },
      "source": [
        "import matplotlib.pyplot as plt\n",
        "\n",
        "feature_names = new_columns_list\n",
        "feature_imports = rfcModel.feature_importances_\n",
        "\n",
        "most_imp_features = pd.DataFrame([f for f in zip(feature_names,feature_imports)], columns=[\"Feature\", \"Importance\"]).nlargest(10, \"Importance\")\n",
        "most_imp_features.sort_values(by=\"Importance\", inplace=True)\n",
        "\n",
        "plt.figure(figsize=(10,6))\n",
        "plt.barh(range(len(most_imp_features)), most_imp_features.Importance, align='center', alpha=0.8)\n",
        "plt.yticks(range(len(most_imp_features)), most_imp_features.Feature, fontsize=14)\n",
        "plt.xlabel('Importance')\n",
        "plt.title('Most important features for Random Forest')\n",
        "plt.show()"
      ],
      "execution_count": 0,
      "outputs": [
        {
          "output_type": "display_data",
          "data": {
            "image/png": "[encoded data removed]",
            "text/plain": [
              "<Figure size 720x432 with 1 Axes>"
            ]
          },
          "metadata": {
            "tags": []
          }
        }
      ]
    },
    {
      "cell_type": "markdown",
      "metadata": {
        "id": "pq3NKI2fRrK2",
        "colab_type": "text"
      },
      "source": [
        "# SVM"
      ]
    },
    {
      "cell_type": "code",
      "metadata": {
        "id": "KdUMt3Vn5NXX",
        "colab_type": "code",
        "outputId": "b8fe3eaf-ace3-4ae1-c7ee-e67f87213d97",
        "colab": {
          "base_uri": "https://localhost:8080/",
          "height": 173
        }
      },
      "source": [
        "from sklearn import svm\n",
        "import scipy\n",
        "svmModel = svm.SVC(kernel = 'sigmoid', verbose = True, class_weight = 'balanced',decision_function_shape = 'ovo',max_iter = 400, random_state = 2, probability = True)\n",
        "svmModel.fit(X_train, Y_train)"
      ],
      "execution_count": 0,
      "outputs": [
        {
          "output_type": "stream",
          "text": [
            "/usr/local/lib/python3.6/dist-packages/sklearn/svm/base.py:193: FutureWarning: The default value of gamma will change from 'auto' to 'scale' in version 0.22 to account better for unscaled features. Set gamma explicitly to 'auto' or 'scale' to avoid this warning.\n",
            "  \"avoid this warning.\", FutureWarning)\n"
          ],
          "name": "stderr"
        },
        {
          "output_type": "stream",
          "text": [
            "[LibSVM]"
          ],
          "name": "stdout"
        },
        {
          "output_type": "stream",
          "text": [
            "/usr/local/lib/python3.6/dist-packages/sklearn/svm/base.py:241: ConvergenceWarning: Solver terminated early (max_iter=400).  Consider pre-processing your data with StandardScaler or MinMaxScaler.\n",
            "  % self.max_iter, ConvergenceWarning)\n"
          ],
          "name": "stderr"
        },
        {
          "output_type": "execute_result",
          "data": {
            "text/plain": [
              "SVC(C=1.0, cache_size=200, class_weight='balanced', coef0=0.0,\n",
              "    decision_function_shape='ovo', degree=3, gamma='auto_deprecated',\n",
              "    kernel='sigmoid', max_iter=400, probability=True, random_state=2,\n",
              "    shrinking=True, tol=0.001, verbose=True)"
            ]
          },
          "metadata": {
            "tags": []
          },
          "execution_count": 157
        }
      ]
    },
    {
      "cell_type": "code",
      "metadata": {
        "id": "66DRvJlORqtN",
        "colab_type": "code",
        "outputId": "65a1aa9c-974a-40cc-e7b9-c05274d9bcca",
        "colab": {
          "base_uri": "https://localhost:8080/",
          "height": 323
        }
      },
      "source": [
        "Ytr_pred = svmModel.predict(X_train)\n",
        "Yva_pred = svmModel.predict(X_valid)\n",
        "Yte_pred = svmModel.predict(X_test)\n",
        "print(\"Training Acc - \")\n",
        "printMetrics(Y_train, Ytr_pred)\n",
        "print(\"Validation Acc - \")\n",
        "printMetrics(Y_valid, Yva_pred)\n",
        "print(\"Test Acc - \")\n",
        "printMetrics(Y_test, Yte_pred)\n",
        "beep()"
      ],
      "execution_count": 0,
      "outputs": [
        {
          "output_type": "stream",
          "text": [
            "Training Acc - \n",
            "0.5221447827761421\n",
            "Condusion Matrix - \n",
            " [[33007  2666  6904]\n",
            " [ 5247  1570  2346]\n",
            " [17323  3978  7452]]\n",
            "Validation Acc - \n",
            "0.4605424712579529\n",
            "Condusion Matrix - \n",
            " [[3378  454  988]\n",
            " [ 719  109  220]\n",
            " [2145  307  639]]\n",
            "Test Acc - \n",
            "0.45287216828478966\n",
            "Condusion Matrix - \n",
            " [[3665  524 1106]\n",
            " [ 786  129  236]\n",
            " [2431  327  684]]\n"
          ],
          "name": "stdout"
        }
      ]
    },
    {
      "cell_type": "markdown",
      "metadata": {
        "id": "K8QyRFfGkaki",
        "colab_type": "text"
      },
      "source": [
        "#Logistic Regression"
      ]
    },
    {
      "cell_type": "code",
      "metadata": {
        "id": "9yLsKht3keaD",
        "colab_type": "code",
        "colab": {}
      },
      "source": [
        "from sklearn.linear_model import LogisticRegression\n",
        "logreg = LogisticRegression(penalty='l1', solver = 'saga', multi_class = 'multinomial',max_iter = 300)\n",
        "logreg.fit(X_train, Y_train)\n",
        "beep()"
      ],
      "execution_count": 0,
      "outputs": []
    },
    {
      "cell_type": "code",
      "metadata": {
        "id": "j0XTkIhxkvGM",
        "colab_type": "code",
        "outputId": "39d03a4f-3f44-4fd9-e920-7ec4b12670be",
        "colab": {
          "base_uri": "https://localhost:8080/",
          "height": 323
        }
      },
      "source": [
        "Ytr_pred = logreg.predict(X_train)\n",
        "Yva_pred = logreg.predict(X_valid)\n",
        "Yte_pred = logreg.predict(X_test)\n",
        "print(\"Training Acc - \")\n",
        "printMetrics(Y_train, Ytr_pred)\n",
        "print(\"Validation Acc - \")\n",
        "printMetrics(Y_valid, Yva_pred)\n",
        "print(\"Test Acc - \")\n",
        "printMetrics(Y_test, Yte_pred)\n",
        "beep()"
      ],
      "execution_count": 0,
      "outputs": [
        {
          "output_type": "stream",
          "text": [
            "Training Acc - \n",
            "0.5681984768861889\n",
            "Condusion Matrix - \n",
            " [[37418    40  5119]\n",
            " [ 5960   108  3095]\n",
            " [20441   102  8210]]\n",
            "Validation Acc - \n",
            "0.49614912378613685\n",
            "Condusion Matrix - \n",
            " [[3811   13  996]\n",
            " [ 829    1  218]\n",
            " [2451    7  633]]\n",
            "Test Acc - \n",
            "0.48624595469255666\n",
            "Condusion Matrix - \n",
            " [[4151   15 1129]\n",
            " [ 888    4  259]\n",
            " [2783    6  653]]\n"
          ],
          "name": "stdout"
        }
      ]
    },
    {
      "cell_type": "code",
      "metadata": {
        "id": "z1u2T4FkGENq",
        "colab_type": "code",
        "colab": {}
      },
      "source": [
        "y_train_preds = mlpModel.predict(X_train)\n",
        "y_valid_preds = mlpModel.predict(X_valid)\n",
        "y_test_preds = mlpModel.predict(X_test)"
      ],
      "execution_count": 0,
      "outputs": []
    },
    {
      "cell_type": "code",
      "metadata": {
        "id": "CE3uOUaXHBKA",
        "colab_type": "code",
        "outputId": "853104f0-1223-4e60-ec29-1b288d4d0575",
        "colab": {
          "base_uri": "https://localhost:8080/",
          "height": 170
        }
      },
      "source": [
        "from sklearn import metrics\n",
        "print(\"Training - \" ,metrics.accuracy_score(Y_train, y_train_preds))\n",
        "print(\"Validation - \",metrics.accuracy_score(Y_valid, y_valid_preds))\n",
        "print(\"Testing - \", metrics.accuracy_score(Y_test,y_test_preds))\n",
        "print(metrics.confusion_matrix(Y_train, y_train_preds))\n",
        "print(metrics.confusion_matrix(Y_valid, y_valid_preds))\n",
        "#print(metrics.confusion_matrix(y_train_preds,Y_train))"
      ],
      "execution_count": 0,
      "outputs": [
        {
          "output_type": "stream",
          "text": [
            "Training -  0.590771868361224\n",
            "Validation -  0.48811251255720506\n",
            "Testing -  0.4851334951456311\n",
            "[[  228   176    58]\n",
            " [ 3771 12019  7213]\n",
            " [ 5164 16558 35306]]\n",
            "[[   7   20   36]\n",
            " [ 313  878 1311]\n",
            " [ 701 2205 3488]]\n"
          ],
          "name": "stdout"
        }
      ]
    },
    {
      "cell_type": "markdown",
      "metadata": {
        "id": "3tPHcPwzYSKG",
        "colab_type": "text"
      },
      "source": [
        "# Neural Network"
      ]
    },
    {
      "cell_type": "code",
      "metadata": {
        "id": "wDET15StYakH",
        "colab_type": "code",
        "outputId": "b73bff8d-3a79-471a-eb9e-776640095499",
        "colab": {
          "base_uri": "https://localhost:8080/",
          "height": 34
        }
      },
      "source": [
        "import keras\n",
        "from keras.models import Sequential\n",
        "from keras.layers import Dense, Flatten\n",
        "from keras.optimizers import SGD\n",
        "\n",
        "from keras.layers import Dropout \n",
        "from keras.layers.normalization import BatchNormalization \n",
        "from keras import regularizers \n",
        "from keras.layers.convolutional import Conv1D"
      ],
      "execution_count": 44,
      "outputs": [
        {
          "output_type": "stream",
          "text": [
            "Using TensorFlow backend.\n"
          ],
          "name": "stderr"
        }
      ]
    },
    {
      "cell_type": "markdown",
      "metadata": {
        "id": "d23T0VezOsyi",
        "colab_type": "text"
      },
      "source": [
        "**Expand the dimension for Y because of neural network**"
      ]
    },
    {
      "cell_type": "code",
      "metadata": {
        "id": "6xm675P2Y6aV",
        "colab_type": "code",
        "colab": {}
      },
      "source": [
        "n_classes = 3\n",
        "Y_trainNN = keras.utils.to_categorical(Y_train, n_classes)\n",
        "Y_testNN = keras.utils.to_categorical(Y_test, n_classes)\n",
        "Y_validNN = keras.utils.to_categorical(Y_valid, n_classes)"
      ],
      "execution_count": 0,
      "outputs": []
    },
    {
      "cell_type": "code",
      "metadata": {
        "id": "yaYp-nyPYb03",
        "colab_type": "code",
        "colab": {
          "base_uri": "https://localhost:8080/",
          "height": 241
        },
        "outputId": "6d5098d3-bc51-421a-b3a1-b99027e3d60e"
      },
      "source": [
        "model = Sequential()\n",
        "\n",
        "model.add(Dense(64, activation='relu', input_shape=(43,)))\n",
        "model.add(BatchNormalization())\n",
        "\n",
        "model.add(Dense(64, activation='relu'))\n",
        "model.add(BatchNormalization())\n",
        "model.add(Dropout(0.2))\n",
        "\n",
        "model.add(Dense(64, activation='relu'))\n",
        "model.add(BatchNormalization())\n",
        "model.add(Dropout(0.2))\n",
        "\n",
        "model.add(Dense(32, activation='relu'))\n",
        "model.add(Dropout(0.5))\n",
        "\n",
        "model.add(Dense(3, activation='softmax'))"
      ],
      "execution_count": 46,
      "outputs": [
        {
          "output_type": "stream",
          "text": [
            "WARNING: Logging before flag parsing goes to stderr.\n",
            "W0614 02:08:05.931791 139826532697984 deprecation_wrapper.py:119] From /usr/local/lib/python3.6/dist-packages/keras/backend/tensorflow_backend.py:74: The name tf.get_default_graph is deprecated. Please use tf.compat.v1.get_default_graph instead.\n",
            "\n",
            "W0614 02:08:05.979566 139826532697984 deprecation_wrapper.py:119] From /usr/local/lib/python3.6/dist-packages/keras/backend/tensorflow_backend.py:517: The name tf.placeholder is deprecated. Please use tf.compat.v1.placeholder instead.\n",
            "\n",
            "W0614 02:08:05.986172 139826532697984 deprecation_wrapper.py:119] From /usr/local/lib/python3.6/dist-packages/keras/backend/tensorflow_backend.py:4138: The name tf.random_uniform is deprecated. Please use tf.random.uniform instead.\n",
            "\n",
            "W0614 02:08:06.081544 139826532697984 deprecation_wrapper.py:119] From /usr/local/lib/python3.6/dist-packages/keras/backend/tensorflow_backend.py:133: The name tf.placeholder_with_default is deprecated. Please use tf.compat.v1.placeholder_with_default instead.\n",
            "\n",
            "W0614 02:08:06.339327 139826532697984 deprecation.py:506] From /usr/local/lib/python3.6/dist-packages/keras/backend/tensorflow_backend.py:3445: calling dropout (from tensorflow.python.ops.nn_ops) with keep_prob is deprecated and will be removed in a future version.\n",
            "Instructions for updating:\n",
            "Please use `rate` instead of `keep_prob`. Rate should be set to `rate = 1 - keep_prob`.\n"
          ],
          "name": "stderr"
        }
      ]
    },
    {
      "cell_type": "code",
      "metadata": {
        "id": "MD-q6AtFa3uO",
        "colab_type": "code",
        "outputId": "9083e3d9-f9c2-4754-f29c-2d03383070e6",
        "colab": {
          "base_uri": "https://localhost:8080/",
          "height": 510
        }
      },
      "source": [
        "model.summary()"
      ],
      "execution_count": 47,
      "outputs": [
        {
          "output_type": "stream",
          "text": [
            "_________________________________________________________________\n",
            "Layer (type)                 Output Shape              Param #   \n",
            "=================================================================\n",
            "dense_1 (Dense)              (None, 64)                2816      \n",
            "_________________________________________________________________\n",
            "batch_normalization_1 (Batch (None, 64)                256       \n",
            "_________________________________________________________________\n",
            "dense_2 (Dense)              (None, 64)                4160      \n",
            "_________________________________________________________________\n",
            "batch_normalization_2 (Batch (None, 64)                256       \n",
            "_________________________________________________________________\n",
            "dropout_1 (Dropout)          (None, 64)                0         \n",
            "_________________________________________________________________\n",
            "dense_3 (Dense)              (None, 64)                4160      \n",
            "_________________________________________________________________\n",
            "batch_normalization_3 (Batch (None, 64)                256       \n",
            "_________________________________________________________________\n",
            "dropout_2 (Dropout)          (None, 64)                0         \n",
            "_________________________________________________________________\n",
            "dense_4 (Dense)              (None, 32)                2080      \n",
            "_________________________________________________________________\n",
            "dropout_3 (Dropout)          (None, 32)                0         \n",
            "_________________________________________________________________\n",
            "dense_5 (Dense)              (None, 3)                 99        \n",
            "=================================================================\n",
            "Total params: 14,083\n",
            "Trainable params: 13,699\n",
            "Non-trainable params: 384\n",
            "_________________________________________________________________\n"
          ],
          "name": "stdout"
        }
      ]
    },
    {
      "cell_type": "code",
      "metadata": {
        "id": "j7w7JqgWY-Nm",
        "colab_type": "code",
        "colab": {
          "base_uri": "https://localhost:8080/",
          "height": 105
        },
        "outputId": "27d72d45-9e99-4ee5-9597-3b073f7dbf35"
      },
      "source": [
        "model.compile(loss='categorical_crossentropy', optimizer=SGD(lr=0.00125), metrics=['accuracy'])"
      ],
      "execution_count": 48,
      "outputs": [
        {
          "output_type": "stream",
          "text": [
            "W0614 02:08:10.375074 139826532697984 deprecation_wrapper.py:119] From /usr/local/lib/python3.6/dist-packages/keras/optimizers.py:790: The name tf.train.Optimizer is deprecated. Please use tf.compat.v1.train.Optimizer instead.\n",
            "\n",
            "W0614 02:08:10.383268 139826532697984 deprecation_wrapper.py:119] From /usr/local/lib/python3.6/dist-packages/keras/backend/tensorflow_backend.py:3295: The name tf.log is deprecated. Please use tf.math.log instead.\n",
            "\n"
          ],
          "name": "stderr"
        }
      ]
    },
    {
      "cell_type": "code",
      "metadata": {
        "id": "Py1wCeGXZBkI",
        "colab_type": "code",
        "outputId": "2372a8f8-2420-418a-b232-de2ae020576a",
        "colab": {
          "base_uri": "https://localhost:8080/",
          "height": 1125
        }
      },
      "source": [
        "history = model.fit(X_train, Y_trainNN, batch_size=32, epochs=30, verbose=1, validation_data=(X_valid, Y_validNN))\n",
        "# beep()"
      ],
      "execution_count": 49,
      "outputs": [
        {
          "output_type": "stream",
          "text": [
            "W0614 02:08:11.977446 139826532697984 deprecation.py:323] From /usr/local/lib/python3.6/dist-packages/tensorflow/python/ops/math_grad.py:1250: add_dispatch_support.<locals>.wrapper (from tensorflow.python.ops.array_ops) is deprecated and will be removed in a future version.\n",
            "Instructions for updating:\n",
            "Use tf.where in 2.0, which has the same broadcast rule as np.where\n"
          ],
          "name": "stderr"
        },
        {
          "output_type": "stream",
          "text": [
            "Train on 80493 samples, validate on 8959 samples\n",
            "Epoch 1/30\n",
            "80493/80493 [==============================] - 24s 294us/step - loss: 1.1933 - acc: 0.4560 - val_loss: 0.9889 - val_acc: 0.4973\n",
            "Epoch 2/30\n",
            "80493/80493 [==============================] - 19s 232us/step - loss: 0.9943 - acc: 0.5043 - val_loss: 0.9719 - val_acc: 0.5400\n",
            "Epoch 3/30\n",
            "80493/80493 [==============================] - 19s 231us/step - loss: 0.9615 - acc: 0.5246 - val_loss: 0.9653 - val_acc: 0.5463\n",
            "Epoch 4/30\n",
            "80493/80493 [==============================] - 18s 228us/step - loss: 0.9497 - acc: 0.5344 - val_loss: 0.9654 - val_acc: 0.5441\n",
            "Epoch 5/30\n",
            "80493/80493 [==============================] - 18s 226us/step - loss: 0.9434 - acc: 0.5354 - val_loss: 0.9654 - val_acc: 0.5431\n",
            "Epoch 6/30\n",
            "80493/80493 [==============================] - 18s 226us/step - loss: 0.9403 - acc: 0.5362 - val_loss: 0.9644 - val_acc: 0.5417\n",
            "Epoch 7/30\n",
            "80493/80493 [==============================] - 18s 227us/step - loss: 0.9362 - acc: 0.5368 - val_loss: 0.9653 - val_acc: 0.5361\n",
            "Epoch 8/30\n",
            "80493/80493 [==============================] - 18s 226us/step - loss: 0.9338 - acc: 0.5408 - val_loss: 0.9666 - val_acc: 0.5343\n",
            "Epoch 9/30\n",
            "80493/80493 [==============================] - 18s 225us/step - loss: 0.9312 - acc: 0.5413 - val_loss: 0.9652 - val_acc: 0.5345\n",
            "Epoch 10/30\n",
            "80493/80493 [==============================] - 18s 224us/step - loss: 0.9290 - acc: 0.5435 - val_loss: 0.9703 - val_acc: 0.5243\n",
            "Epoch 11/30\n",
            "80493/80493 [==============================] - 18s 228us/step - loss: 0.9269 - acc: 0.5452 - val_loss: 0.9674 - val_acc: 0.5243\n",
            "Epoch 12/30\n",
            "80493/80493 [==============================] - 18s 224us/step - loss: 0.9259 - acc: 0.5471 - val_loss: 0.9674 - val_acc: 0.5249\n",
            "Epoch 13/30\n",
            "80493/80493 [==============================] - 18s 226us/step - loss: 0.9247 - acc: 0.5479 - val_loss: 0.9657 - val_acc: 0.5256\n",
            "Epoch 14/30\n",
            "80493/80493 [==============================] - 18s 226us/step - loss: 0.9237 - acc: 0.5480 - val_loss: 0.9722 - val_acc: 0.5219\n",
            "Epoch 15/30\n",
            "80493/80493 [==============================] - 18s 227us/step - loss: 0.9231 - acc: 0.5482 - val_loss: 0.9687 - val_acc: 0.5236\n",
            "Epoch 16/30\n",
            "80493/80493 [==============================] - 19s 230us/step - loss: 0.9216 - acc: 0.5513 - val_loss: 0.9737 - val_acc: 0.5179\n",
            "Epoch 17/30\n",
            "80493/80493 [==============================] - 19s 233us/step - loss: 0.9215 - acc: 0.5521 - val_loss: 0.9725 - val_acc: 0.5158\n",
            "Epoch 18/30\n",
            "80493/80493 [==============================] - 18s 228us/step - loss: 0.9196 - acc: 0.5536 - val_loss: 0.9720 - val_acc: 0.5156\n",
            "Epoch 19/30\n",
            "80493/80493 [==============================] - 18s 229us/step - loss: 0.9189 - acc: 0.5534 - val_loss: 0.9741 - val_acc: 0.5148\n",
            "Epoch 20/30\n",
            "80493/80493 [==============================] - 19s 231us/step - loss: 0.9185 - acc: 0.5544 - val_loss: 0.9745 - val_acc: 0.5167\n",
            "Epoch 21/30\n",
            "80493/80493 [==============================] - 18s 229us/step - loss: 0.9178 - acc: 0.5552 - val_loss: 0.9782 - val_acc: 0.5135\n",
            "Epoch 22/30\n",
            "80493/80493 [==============================] - 18s 227us/step - loss: 0.9171 - acc: 0.5550 - val_loss: 0.9722 - val_acc: 0.5180\n",
            "Epoch 23/30\n",
            "80493/80493 [==============================] - 18s 226us/step - loss: 0.9167 - acc: 0.5551 - val_loss: 0.9714 - val_acc: 0.5159\n",
            "Epoch 24/30\n",
            "80493/80493 [==============================] - 18s 227us/step - loss: 0.9159 - acc: 0.5550 - val_loss: 0.9775 - val_acc: 0.5132\n",
            "Epoch 25/30\n",
            "80493/80493 [==============================] - 18s 227us/step - loss: 0.9152 - acc: 0.5557 - val_loss: 0.9728 - val_acc: 0.5148\n",
            "Epoch 26/30\n",
            "80493/80493 [==============================] - 18s 224us/step - loss: 0.9153 - acc: 0.5577 - val_loss: 0.9764 - val_acc: 0.5122\n",
            "Epoch 27/30\n",
            "80493/80493 [==============================] - 18s 223us/step - loss: 0.9158 - acc: 0.5583 - val_loss: 0.9762 - val_acc: 0.5143\n",
            "Epoch 28/30\n",
            "80493/80493 [==============================] - 18s 228us/step - loss: 0.9154 - acc: 0.5580 - val_loss: 0.9768 - val_acc: 0.5098\n",
            "Epoch 29/30\n",
            "80493/80493 [==============================] - 18s 222us/step - loss: 0.9137 - acc: 0.5588 - val_loss: 0.9780 - val_acc: 0.5105\n",
            "Epoch 30/30\n",
            "80493/80493 [==============================] - 18s 223us/step - loss: 0.9129 - acc: 0.5597 - val_loss: 0.9778 - val_acc: 0.5114\n"
          ],
          "name": "stdout"
        }
      ]
    },
    {
      "cell_type": "code",
      "metadata": {
        "id": "pHXal1mHZXSE",
        "colab_type": "code",
        "outputId": "b8265c4e-bbbd-4aa7-ebda-27e68d05a319",
        "colab": {
          "base_uri": "https://localhost:8080/",
          "height": 329
        }
      },
      "source": [
        "import matplotlib.pyplot as plt\n",
        "loss, accuracy  = model.evaluate(X_valid, Y_validNN, verbose=False)\n",
        "lossTest, accuracyTest  = model.evaluate(X_test, Y_testNN, verbose=False)\n",
        "\n",
        "plt.plot(history.history['acc'])\n",
        "plt.plot(history.history['val_acc'])\n",
        "plt.title('model accuracy')\n",
        "plt.ylabel('accuracy')\n",
        "plt.xlabel('epoch')\n",
        "plt.legend(['training', 'validation'], loc='best')\n",
        "plt.show()\n",
        "\n",
        "print(f'Validation accuracy: {accuracy:.3}')\n",
        "print(f'Test accuracy: {accuracyTest:.3}')"
      ],
      "execution_count": 51,
      "outputs": [
        {
          "output_type": "display_data",
          "data": {
            "image/png": "[encoded data removed]",
            "text/plain": [
              "<Figure size 432x288 with 1 Axes>"
            ]
          },
          "metadata": {
            "tags": []
          }
        },
        {
          "output_type": "stream",
          "text": [
            "Validation accuracy: 0.511\n",
            "Test accuracy: 0.51\n"
          ],
          "name": "stdout"
        }
      ]
    }
  ]
}